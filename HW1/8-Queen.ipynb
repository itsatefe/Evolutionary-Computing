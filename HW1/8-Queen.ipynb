{
 "cells": [
  {
   "cell_type": "code",
   "execution_count": 1,
   "id": "1d913edb",
   "metadata": {},
   "outputs": [],
   "source": [
    "from itertools import permutations\n",
    "import random\n",
    "import matplotlib.pyplot as plt"
   ]
  },
  {
   "cell_type": "code",
   "execution_count": 3,
   "id": "e85053f5",
   "metadata": {},
   "outputs": [],
   "source": [
    "def initialization(num_pop = 100):\n",
    "    queens = list(range(1, 9))\n",
    "    permuted = list(permutations(queens, 8))\n",
    "    random.shuffle(permuted)\n",
    "    chromosomes = random.sample(permuted, num_pop)\n",
    "    population = []\n",
    "    for parent in chromosomes:\n",
    "        fitness = calculate_fitness(parent)\n",
    "        population.append((list(parent),fitness))\n",
    "    return population"
   ]
  },
  {
   "cell_type": "code",
   "execution_count": 4,
   "id": "fdaaf3b8",
   "metadata": {},
   "outputs": [],
   "source": [
    "def parent_selection(population):\n",
    "    selected = random.choices(population, k=5)   \n",
    "    parents = sorted(selected, key=lambda x: x[1], reverse=False)\n",
    "    best1, best2 = parents[:2]\n",
    "    return best1, best2"
   ]
  },
  {
   "cell_type": "code",
   "execution_count": 25,
   "id": "9137471c",
   "metadata": {},
   "outputs": [],
   "source": [
    "# sum of collisions\n",
    "def calculate_fitness(chromosome):\n",
    "    h_collisions = (sum([chromosome.count(queen) - 1 for queen in chromosome]) / 2)\n",
    "    num_queens = len(chromosome)\n",
    "    l_diagonal_collisions = [0] * (2 * num_queens - 1)\n",
    "    r_diagonal_collisions = [0] * (2 * num_queens - 1)\n",
    "    for i in range(num_queens):\n",
    "        l_diagonal_collisions[i + chromosome[i] - 1] += 1\n",
    "        r_diagonal_collisions[len(chromosome) - i + chromosome[i] - 2] += 1\n",
    "\n",
    "    d_collisions = 0\n",
    "    for i in range(2 * num_queens - 1):\n",
    "        counter = 0\n",
    "        if l_diagonal_collisions[i] > 1:\n",
    "            counter += l_diagonal_collisions[i] - 1\n",
    "        if r_diagonal_collisions[i] > 1:\n",
    "            counter += r_diagonal_collisions[i] - 1\n",
    "        d_collisions += counter\n",
    "    collisions = h_collisions + d_collisions\n",
    "    print(d_collisions)\n",
    "    print(h_collisions)\n",
    "    return collisions"
   ]
  },
  {
   "cell_type": "code",
   "execution_count": 6,
   "id": "f5a60aa8",
   "metadata": {},
   "outputs": [],
   "source": [
    "def Recombination(parent1, parent2,pc = 1):\n",
    "    length = len(parent1)\n",
    "    select_offsprings = random.random() < pc\n",
    "    if not select_offsprings:\n",
    "        return parent1, parent2\n",
    "    \n",
    "    #cut\n",
    "    cut_point = random.randint(0,length - 1)\n",
    "    \n",
    "    parent1_left, parent1_right = parent1[:cut_point], parent1[cut_point:]\n",
    "    parent2_left, parent2_right = parent2[:cut_point], parent2[cut_point:]\n",
    "    \n",
    "    #fill\n",
    "    def combine_genes(part1, part2, complement):\n",
    "        unique_genes = part1 + [x for x in part2 if x not in part1]\n",
    "        missing_genes = []\n",
    "        if len(unique_genes) != length:\n",
    "            missing_genes = [x for x in complement if x not in unique_genes]\n",
    "        return unique_genes + missing_genes\n",
    "\n",
    "    offspring1 = combine_genes(parent1_left, parent2_right, parent2_left)\n",
    "    offspring2 = combine_genes(parent2_left, parent1_right, parent1_left)\n",
    "    \n",
    "    return offspring1, offspring2"
   ]
  },
  {
   "cell_type": "code",
   "execution_count": 7,
   "id": "0e7159c4",
   "metadata": {},
   "outputs": [],
   "source": [
    "def mutation(chromosome,pm=0.8):\n",
    "    if random.random() < pm:\n",
    "        position1, position2 = random.sample(range(8), 2)\n",
    "        chromosome[position1], chromosome[position2] = chromosome[position2], chromosome[position1]\n",
    "    return chromosome"
   ]
  },
  {
   "cell_type": "code",
   "execution_count": 8,
   "id": "ab6e6224",
   "metadata": {},
   "outputs": [],
   "source": [
    "def best_inpop(population):\n",
    "    population = sorted(population, key=lambda x: x[1], reverse=False)\n",
    "    best = population[0]\n",
    "    return best"
   ]
  },
  {
   "cell_type": "code",
   "execution_count": 9,
   "id": "54ad95d2",
   "metadata": {},
   "outputs": [],
   "source": [
    "def replace_worst(population, chromosome):\n",
    "    population = sorted(population, key=lambda x: x[1], reverse=True)\n",
    "    population[0] = chromosome\n",
    "    random.shuffle(population)\n",
    "    return population"
   ]
  },
  {
   "cell_type": "code",
   "execution_count": 10,
   "id": "48506535",
   "metadata": {},
   "outputs": [],
   "source": [
    "def survival_selection(population):\n",
    "    population = sorted(population, key=lambda x: x[1], reverse=True)\n",
    "    del population[0]\n",
    "    del population[0] \n",
    "    random.shuffle(population)\n",
    "    return population"
   ]
  },
  {
   "cell_type": "code",
   "execution_count": 11,
   "id": "6e14a2a7",
   "metadata": {},
   "outputs": [],
   "source": [
    "def display_chessboard(chromosome):\n",
    "    board_size = len(chromosome)\n",
    "    for row in range(board_size):\n",
    "        row_str = \"|\"\n",
    "        for col in range(board_size):\n",
    "            if chromosome[row] == col + 1:\n",
    "                row_str += \" Q |\"  \n",
    "            else:\n",
    "                row_str += \"   |\"  \n",
    "        print(\"-\" * (board_size * 4 + 1))\n",
    "        print(row_str)\n",
    "    print(\"-\" * (board_size * 4 + 1))\n"
   ]
  },
  {
   "cell_type": "code",
   "execution_count": 12,
   "id": "1808b2d4",
   "metadata": {},
   "outputs": [],
   "source": [
    "def check_solution(population):\n",
    "    solutions = []\n",
    "    for chromosome,fitness in population:\n",
    "        if fitness == 0:\n",
    "            solutions.append(chromosome)\n",
    "    return solutions"
   ]
  },
  {
   "cell_type": "code",
   "execution_count": 13,
   "id": "1f9d8b9a",
   "metadata": {},
   "outputs": [],
   "source": [
    "def calculate_fitness_statistics(fitness_values, num_pop):\n",
    "    max_fitness = max(fitness_values)\n",
    "    average_fitness = sum(fitness_values) / num_pop\n",
    "    return max_fitness, average_fitness"
   ]
  },
  {
   "cell_type": "code",
   "execution_count": 14,
   "id": "6cdbc5a1",
   "metadata": {},
   "outputs": [],
   "source": [
    "def plot_fitness_statistics(fitness_statistics):\n",
    "    generation_numbers = list(range(len(fitness_statistics)))\n",
    "    plt.plot(generation_numbers, [tup[0] for tup in fitness_statistics], label='Max Fitness')\n",
    "    plt.plot(generation_numbers, [tup[1] for tup in fitness_statistics], label='Average Fitness')\n",
    "    plt.xlabel('Generation')\n",
    "    plt.ylabel('Fitness Value')\n",
    "    plt.legend()\n",
    "    plt.title('Fitness per Generation')\n",
    "    plt.show()"
   ]
  },
  {
   "cell_type": "code",
   "execution_count": 15,
   "id": "a364e26b",
   "metadata": {},
   "outputs": [],
   "source": [
    "def main():\n",
    "    num_pop = 100\n",
    "    population = initialization(num_pop)\n",
    "    fitness_statistics = []\n",
    "    fitness_values = [chromosome[1] for chromosome in population]\n",
    "    fitness_statistics.append(calculate_fitness_statistics(fitness_values,num_pop))\n",
    "    \n",
    "    solutions = check_solution(population)\n",
    "    if len(solutions) > 0:\n",
    "        print(\"Solution was in initial population\")\n",
    "        print()\n",
    "        for solution in solutions:\n",
    "            print(solution)\n",
    "            display_chessboard(solution)\n",
    "            print(\"-\" * (len(solution) * 4 + 1))\n",
    "            print()\n",
    "        return\n",
    "    \n",
    "    num_fitness_eve = 100\n",
    "    while True and num_fitness_eve <= 10000:        \n",
    "        parent1,parent2 = parent_selection(population)\n",
    "        offspring1, offspring2 = Recombination(parent1[0], parent2[0])\n",
    "        offspring1 = mutation(offspring1)\n",
    "        offspring2 = mutation(offspring2)\n",
    "        \n",
    "        offspring1 = (offspring1,calculate_fitness(offspring1))\n",
    "        offspring2 = (offspring2,calculate_fitness(offspring2))\n",
    "        num_fitness_eve += 2\n",
    "        population += [offspring1, offspring2]\n",
    "        \n",
    "        population = survival_selection(population)\n",
    "        \n",
    "        fitness_values = [chromosome[1] for chromosome in population]\n",
    "        fitness_statistics.append(calculate_fitness_statistics(fitness_values,num_pop))\n",
    "        \n",
    "        solutions = check_solution(population)\n",
    "        if len(solutions) > 0:\n",
    "            break   \n",
    "    \n",
    "    if len(solutions) > 0:\n",
    "        for solution in solutions:\n",
    "            print(solution)\n",
    "            display_chessboard(solution)\n",
    "            print(\"-\" * (len(solution) * 4 + 1))\n",
    "            print()\n",
    "    else:\n",
    "        print(\"The algorithm was not able to find any solution\")\n",
    "            \n",
    "\n",
    "    plot_fitness_statistics(fitness_statistics)\n"
   ]
  },
  {
   "cell_type": "code",
   "execution_count": 16,
   "id": "00d5ffdf",
   "metadata": {},
   "outputs": [
    {
     "name": "stdout",
     "output_type": "stream",
     "text": [
      "[5, 7, 1, 3, 8, 6, 4, 2]\n",
      "---------------------------------\n",
      "|   |   |   |   | Q |   |   |   |\n",
      "---------------------------------\n",
      "|   |   |   |   |   |   | Q |   |\n",
      "---------------------------------\n",
      "| Q |   |   |   |   |   |   |   |\n",
      "---------------------------------\n",
      "|   |   | Q |   |   |   |   |   |\n",
      "---------------------------------\n",
      "|   |   |   |   |   |   |   | Q |\n",
      "---------------------------------\n",
      "|   |   |   |   |   | Q |   |   |\n",
      "---------------------------------\n",
      "|   |   |   | Q |   |   |   |   |\n",
      "---------------------------------\n",
      "|   | Q |   |   |   |   |   |   |\n",
      "---------------------------------\n",
      "---------------------------------\n",
      "\n"
     ]
    },
    {
     "data": {
      "image/png": "[encoded data removed]",
      "text/plain": [
       "<Figure size 640x480 with 1 Axes>"
      ]
     },
     "metadata": {},
     "output_type": "display_data"
    }
   ],
   "source": [
    "if __name__ == \"__main__\":\n",
    "    main()"
   ]
  }
 ],
 "metadata": {
  "kernelspec": {
   "display_name": "Python 3 (ipykernel)",
   "language": "python",
   "name": "python3"
  },
  "language_info": {
   "codemirror_mode": {
    "name": "ipython",
    "version": 3
   },
   "file_extension": ".py",
   "mimetype": "text/x-python",
   "name": "python",
   "nbconvert_exporter": "python",
   "pygments_lexer": "ipython3",
   "version": "3.11.5"
  }
 },
 "nbformat": 4,
 "nbformat_minor": 5
}
