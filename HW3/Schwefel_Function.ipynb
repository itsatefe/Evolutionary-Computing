{
 "cells": [
  {
   "cell_type": "code",
   "execution_count": null,
   "id": "52cae42a",
   "metadata": {},
   "outputs": [],
   "source": [
    "from ObjectiveFunction import ObjectiveFunction\n",
    "from EvolutionaryStrategy import EvolutionaryStrategy\n",
    "import numpy as np\n",
    "import json\n",
    "import matplotlib.pyplot as plt"
   ]
  },
  {
   "cell_type": "code",
   "execution_count": null,
   "id": "07cbacee",
   "metadata": {},
   "outputs": [],
   "source": [
    "def plot_fitness_performance_per_run(run_num, avg_fitness_per_run, best_fitness_per_run):\n",
    "    plt.plot(range(1, run_num + 1), avg_fitness_per_run, label='Average Fitness', color='blue')\n",
    "    plt.plot(range(1, run_num + 1), best_fitness_per_run, label='best Fitness', color='green')        \n",
    "    plt.xlabel('Run')\n",
    "    plt.ylabel('Fitness')\n",
    "    plt.title('Per Run')\n",
    "    plt.legend()\n",
    "    plt.show()"
   ]
  },
  {
   "cell_type": "markdown",
   "id": "b2e11387",
   "metadata": {},
   "source": [
    "# 10 different Run"
   ]
  },
  {
   "cell_type": "markdown",
   "id": "b61d26e3",
   "metadata": {},
   "source": [
    "### n = 3"
   ]
  },
  {
   "cell_type": "markdown",
   "id": "810115a4",
   "metadata": {},
   "source": [
    "### n = 6"
   ]
  },
  {
   "cell_type": "code",
   "execution_count": null,
   "id": "7d34de52",
   "metadata": {
    "scrolled": false
   },
   "outputs": [],
   "source": [
    "with open(\"config.json\", 'r') as f:\n",
    "    config = json.load(f)\n",
    "    \n",
    "avg_fitness_per_run = []\n",
    "best_fitness_per_run = []\n",
    "min_fitness_per_run = []\n",
    "run_num = 10\n",
    "for i in range(0,run_num):\n",
    "    print(\"-----------------------------------------------------\")\n",
    "    print(\"this is run number: \",i+1)\n",
    "    es = EvolutionaryStrategy(config)\n",
    "    min_value, min_chromosome, last_generation, average_fitness_values, best_fitness_values, fitness_std = es.run()\n",
    "    print(\"solution fitness: \", min_value)\n",
    "    print(\"solution fitness: \", min_chromosome)\n",
    "    es.plot_fitness_performance(last_generation, average_fitness_values, best_fitness_values)\n",
    "    es.plot_diversity(fitness_std,last_generation)\n",
    "    avg_fitness_per_run.append(np.mean(average_fitness_values))\n",
    "    best_fitness_per_run.append(np.mean(best_fitness_values))\n",
    "plot_fitness_performance_per_run(run_num, avg_fitness_per_run, best_fitness_per_run)"
   ]
  },
  {
   "cell_type": "markdown",
   "id": "8c842778",
   "metadata": {},
   "source": [
    "# self adaptive mutation is disabled"
   ]
  },
  {
   "cell_type": "markdown",
   "id": "2b0a45e8",
   "metadata": {},
   "source": [
    "# Convergence speed"
   ]
  },
  {
   "cell_type": "markdown",
   "id": "6cf353c2",
   "metadata": {},
   "source": [
    "# Elitism or Generational"
   ]
  },
  {
   "cell_type": "markdown",
   "id": "4d414698",
   "metadata": {},
   "source": [
    "# results with different num_offsprings"
   ]
  },
  {
   "cell_type": "code",
   "execution_count": null,
   "id": "10b4f0a8",
   "metadata": {},
   "outputs": [],
   "source": [
    "num_offspring_values = [15, 20, 40, 80, 100, 200,300, 400]\n",
    "results = []\n",
    "for num_offspring in num_offspring_values:\n",
    "    json_string = f'''\n",
    "    {{\n",
    "      \"evolutionary_strategy\": {{\n",
    "        \"survival_method\": \"elitism\",\n",
    "        \"max_generations\": 1000,\n",
    "        \"population_size\": 30,\n",
    "        \"num_offspring\": {num_offspring},\n",
    "        \"initial_sigma\": 0.75,\n",
    "        \"objective_function_config\": {{\n",
    "          \"objective_function\": \"schwefel_function\",\n",
    "          \"range\": [-500, 500],\n",
    "          \"chromosome_length\": 5\n",
    "        }}\n",
    "      }}\n",
    "    }}\n",
    "    '''\n",
    "    config = json.loads(json_string)\n",
    "    es = EvolutionaryStrategy(config)\n",
    "    result = es.run()\n",
    "    results.append(result)\n"
   ]
  },
  {
   "cell_type": "code",
   "execution_count": null,
   "id": "a417e463",
   "metadata": {},
   "outputs": [],
   "source": [
    "min_fitnesses = [result[0] for result in results]"
   ]
  },
  {
   "cell_type": "code",
   "execution_count": null,
   "id": "af9a94ba",
   "metadata": {},
   "outputs": [],
   "source": [
    "plt.plot(num_offspring_values, min_fitnesses, marker='o')\n",
    "plt.xlabel('Number of Offspring')\n",
    "plt.ylabel('Objective Function Value')\n",
    "plt.title('Effect of Number of Offspring on Evolutionary Strategy')\n",
    "plt.grid(True)\n",
    "plt.show()"
   ]
  },
  {
   "cell_type": "markdown",
   "id": "68d9a446",
   "metadata": {},
   "source": [
    "# results with different initial_sigma"
   ]
  },
  {
   "cell_type": "code",
   "execution_count": null,
   "id": "c378c50b",
   "metadata": {},
   "outputs": [],
   "source": [
    "initial_sigma_values = [0.001, 0.025, 0.05, 0.25, 0.5,0.75, 0.85]\n",
    "results = []\n",
    "for initial_sigma in initial_sigma_values:\n",
    "    json_string = f'''\n",
    "    {{\n",
    "      \"evolutionary_strategy\": {{\n",
    "        \"survival_method\": \"elitism\",\n",
    "        \"max_generations\": 1000,\n",
    "        \"population_size\": 30,\n",
    "        \"num_offspring\": 200,\n",
    "        \"initial_sigma\": {initial_sigma},\n",
    "        \"objective_function_config\": {{\n",
    "          \"objective_function\": \"schwefel_function\",\n",
    "          \"range\": [-500, 500],\n",
    "          \"chromosome_length\": 5\n",
    "        }}\n",
    "      }}\n",
    "    }}\n",
    "    '''\n",
    "    config = json.loads(json_string)\n",
    "    es = EvolutionaryStrategy(config)\n",
    "    result = es.run()\n",
    "    results.append(result)"
   ]
  },
  {
   "cell_type": "code",
   "execution_count": null,
   "id": "ea18ada8",
   "metadata": {},
   "outputs": [],
   "source": [
    "min_fitnesses = [result[0] for result in results]"
   ]
  },
  {
   "cell_type": "code",
   "execution_count": null,
   "id": "f491d1cf",
   "metadata": {
    "scrolled": false
   },
   "outputs": [],
   "source": [
    "plt.plot(initial_sigma_values, min_fitnesses, marker='o')\n",
    "plt.xlabel('Number of Initial Sigma')\n",
    "plt.ylabel('Objective Function Value')\n",
    "plt.title('Effect of Number of Initial Sigma on Evolutionary Strategy')\n",
    "plt.grid(True)\n",
    "plt.show()"
   ]
  },
  {
   "cell_type": "markdown",
   "id": "a7417669",
   "metadata": {},
   "source": [
    "# results with different max_generations"
   ]
  },
  {
   "cell_type": "code",
   "execution_count": null,
   "id": "282eb496",
   "metadata": {},
   "outputs": [],
   "source": [
    "max_generations_values = [100, 200, 400, 600, 800, 1000, 1500]\n",
    "results = []\n",
    "for max_generations in max_generations_values:\n",
    "    json_string = f'''\n",
    "    {{\n",
    "      \"evolutionary_strategy\": {{\n",
    "        \"survival_method\": \"elitism\",\n",
    "        \"max_generations\": {max_generations},\n",
    "        \"population_size\": 30,\n",
    "        \"num_offspring\": 200,\n",
    "        \"initial_sigma\": 0.75,\n",
    "        \"objective_function_config\": {{\n",
    "          \"objective_function\": \"schwefel_function\",\n",
    "          \"range\": [-500, 500],\n",
    "          \"chromosome_length\": 5\n",
    "        }}\n",
    "      }}\n",
    "    }}\n",
    "    '''\n",
    "    config = json.loads(json_string)\n",
    "    es = EvolutionaryStrategy(config)\n",
    "    result = es.run()\n",
    "    results.append(result)"
   ]
  },
  {
   "cell_type": "code",
   "execution_count": null,
   "id": "3512f42c",
   "metadata": {},
   "outputs": [],
   "source": [
    "min_fitnesses = [result[0] for result in results]"
   ]
  },
  {
   "cell_type": "code",
   "execution_count": null,
   "id": "a963bf7b",
   "metadata": {
    "scrolled": false
   },
   "outputs": [],
   "source": [
    "plt.plot(max_generations_values, min_fitnesses, marker='o')\n",
    "plt.xlabel('Number of Generations')\n",
    "plt.ylabel('Objective Function Value')\n",
    "plt.title('Effect of Number of Generations on Evolutionary Strategy')\n",
    "plt.grid(True)\n",
    "plt.show()"
   ]
  },
  {
   "cell_type": "code",
   "execution_count": null,
   "id": "d4555a0d",
   "metadata": {},
   "outputs": [],
   "source": []
  },
  {
   "cell_type": "code",
   "execution_count": null,
   "id": "939e2f85",
   "metadata": {},
   "outputs": [],
   "source": []
  }
 ],
 "metadata": {
  "kernelspec": {
   "display_name": "Python 3 (ipykernel)",
   "language": "python",
   "name": "python3"
  },
  "language_info": {
   "codemirror_mode": {
    "name": "ipython",
    "version": 3
   },
   "file_extension": ".py",
   "mimetype": "text/x-python",
   "name": "python",
   "nbconvert_exporter": "python",
   "pygments_lexer": "ipython3",
   "version": "3.11.5"
  }
 },
 "nbformat": 4,
 "nbformat_minor": 5
}
