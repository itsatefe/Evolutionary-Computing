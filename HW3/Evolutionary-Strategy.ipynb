{
 "cells": [
  {
   "cell_type": "code",
   "execution_count": 1,
   "id": "ed948340",
   "metadata": {},
   "outputs": [],
   "source": [
    "import numpy as np"
   ]
  },
  {
   "cell_type": "markdown",
   "id": "bc59ee6c",
   "metadata": {},
   "source": [
    "# Schwefel function\n",
    "$$ f(x) = 418.9829n - \\sum_{i=1}^{n}x_i \\sin(\\sqrt{|x_i|}) $$"
   ]
  },
  {
   "cell_type": "code",
   "execution_count": 2,
   "id": "ff4effd2",
   "metadata": {},
   "outputs": [],
   "source": [
    "def schwefel_function(x):\n",
    "    n = len(x)\n",
    "    a = 418.9829\n",
    "    sum_term = np.sum(x * np.sin(np.sqrt(np.abs(x))))\n",
    "    result = a * n - sum_term\n",
    "    return result"
   ]
  },
  {
   "cell_type": "code",
   "execution_count": 3,
   "id": "8518c800",
   "metadata": {},
   "outputs": [
    {
     "name": "stdout",
     "output_type": "stream",
     "text": [
      "Schwefel function value for [420.9687 420.9687 420.9687]: 3.818351251538843e-05\n"
     ]
    }
   ],
   "source": [
    "dimension = 5\n",
    "range_x = [-500, 500]\n",
    "random_vector = np.random.uniform(range_x, dimension)\n",
    "random_vector = np.array([420.9687,420.9687,420.9687])\n",
    "result = schwefel_function(random_vector)\n",
    "print(f\"Schwefel function value for {random_vector}: {result}\")"
   ]
  },
  {
   "cell_type": "markdown",
   "id": "288cb9b6",
   "metadata": {},
   "source": [
    "# Ackley function\n",
    "$$ f(x) = -20 \\exp\\left(-0.2 \\sqrt{\\frac{1}{n} \\sum_{i=1}^{n}x_i^2}\\right) - \\exp\\left(\\frac{1}{n}\\sum_{i=1}^{n}\\cos(2\\pi x_i)\\right) + 20 + e $$\n"
   ]
  },
  {
   "cell_type": "code",
   "execution_count": 4,
   "id": "6e6d231a",
   "metadata": {},
   "outputs": [],
   "source": [
    "def ackley_function(x):\n",
    "    n = len(x)\n",
    "    a = 20\n",
    "    b = 0.2\n",
    "    c = 2 * np.pi\n",
    "    term1 = -a * np.exp(-b * np.sqrt((1/n) * np.sum(x**2)))\n",
    "    term2 = -np.exp((1/n) * np.sum(np.cos(c * x)))\n",
    "    result = term1 + term2 + 20 + np.exp(1)\n",
    "    return result"
   ]
  },
  {
   "cell_type": "code",
   "execution_count": 5,
   "id": "d7e16554",
   "metadata": {},
   "outputs": [
    {
     "name": "stdout",
     "output_type": "stream",
     "text": [
      "Ackley function value for [0 0]: 4.440892098500626e-16\n"
     ]
    }
   ],
   "source": [
    "dimension = 5\n",
    "range_x = [-32.768, 32.768]\n",
    "# random_vector = np.random.uniform(range_x, dimension)\n",
    "random_vector = np.array([0,0])\n",
    "result = ackley_function(random_vector)\n",
    "print(f\"Ackley function value for {random_vector}: {result}\")"
   ]
  },
  {
   "cell_type": "markdown",
   "id": "80205955",
   "metadata": {},
   "source": [
    "# Evolutionary Startegy"
   ]
  },
  {
   "cell_type": "markdown",
   "id": "9fc48c00",
   "metadata": {},
   "source": [
    "Ackley Function: **flat and smooth fitness landscape, unimodal landscape**"
   ]
  },
  {
   "cell_type": "markdown",
   "id": "c8601944",
   "metadata": {},
   "source": [
    "Schwefel Function: **rugged landscapes, multimodal**\n"
   ]
  },
  {
   "cell_type": "code",
   "execution_count": 6,
   "id": "f783e241",
   "metadata": {},
   "outputs": [],
   "source": [
    "def population_initialization(population_size, chromosome_length, range_x, initial_sigma):\n",
    "    min_value, max_value = range_x\n",
    "    object_parameters = np.random.uniform(min_value, max_value, size=(population_size, chromosome_length))\n",
    "    population = [list(object_parameter) + chromosome_length * [initial_sigma] for i, object_parameter in enumerate(object_parameters)]\n",
    "    return population"
   ]
  },
  {
   "cell_type": "code",
   "execution_count": 7,
   "id": "f70ea608",
   "metadata": {},
   "outputs": [],
   "source": [
    "# def parent_selection(population, num_parents):\n",
    "    "
   ]
  },
  {
   "cell_type": "markdown",
   "id": "d3b61aea",
   "metadata": {},
   "source": [
    "Blend crossover\n",
    "\n",
    "simulated binary crossover"
   ]
  },
  {
   "cell_type": "code",
   "execution_count": 8,
   "id": "de0e37d1",
   "metadata": {},
   "outputs": [],
   "source": [
    "# Randomly choose one parent for each gene \n",
    "def global_discrete_recombination(parents):\n",
    "    num_genes = len(parents[0])\n",
    "    offspring = np.array([np.random.choice(parents[gene]) for gene in range(num_genes)])\n",
    "    return offspring"
   ]
  },
  {
   "cell_type": "code",
   "execution_count": 9,
   "id": "889271bb",
   "metadata": {},
   "outputs": [],
   "source": [
    "# Randomly select genes from either parent\n",
    "def local_discrete_recombination(parents):\n",
    "    offspring = np.zeros_like(parents[0])\n",
    "    for i in range(len(offspring)):\n",
    "        selected_parent_indices = np.random.choice(len(parents), size=1)[0]\n",
    "        offspring[i] = parents[selected_parent_indices][i]\n",
    "    return offspring"
   ]
  },
  {
   "cell_type": "code",
   "execution_count": 10,
   "id": "be8f12cc",
   "metadata": {},
   "outputs": [],
   "source": [
    "# Taking the average\n",
    "def local_intermediary_recombination(parent1, parent2):\n",
    "    offspring = (parent1 + parent2) / 2.0 \n",
    "    return offspring"
   ]
  },
  {
   "cell_type": "code",
   "execution_count": 11,
   "id": "b7b03c7f",
   "metadata": {},
   "outputs": [],
   "source": [
    "# Take the average of Randomly select parents for each gene\n",
    "def global_intermediary_recombination(parents):\n",
    "    num_genes = len(parents[0])\n",
    "    offspring = np.mean(parents, axis=1)\n",
    "    return offspring"
   ]
  },
  {
   "cell_type": "markdown",
   "id": "f5e4cefe",
   "metadata": {},
   "source": [
    "$$ \\sigma'_i = \\sigma_i \\cdot \\exp\\left(\\tau' \\cdot \\mathcal{N}(0,1) + \\tau \\cdot \\mathcal{N_i}(0,1)\\right) $$\n",
    "\n",
    "$$ x'_i = x_i + \\sigma'_i \\cdot \\mathcal{N}(0,1) $$\n",
    "\n",
    "$ \\tau $ is proportional to $ \\frac{1}{\\sqrt{2n}} $\n",
    "\n",
    "$ \\tau' $ is proportional to $ \\frac{1}{\\sqrt{2\\sqrt{n}}} $\n",
    "\n",
    "$ \\mathcal{N}(0,1) $ represents a random value drawn from a standard normal distribution,\n",
    "\n",
    "$ \\sigma'_i < \\epsilon_0 $ implies $ \\sigma'_i = \\epsilon_0 $.\n",
    "\n"
   ]
  },
  {
   "cell_type": "code",
   "execution_count": 12,
   "id": "5c7ce9f6",
   "metadata": {},
   "outputs": [],
   "source": [
    "def uncorrelated_mutation_n_sigma(chromosome, n_sigma, epsilon=1e-10):\n",
    "    random_values = np.random.randn(len(chromosome))\n",
    "    tau = 1 / np.sqrt(2 * len(chromosome))\n",
    "    tau_prime = 1 / np.sqrt(2 * np.sqrt(len(chromosome)))\n",
    "    new_n_sigma = np.array(n_sigma) * np.exp(tau_prime * np.random.randn() + tau * random_values)\n",
    "    mask = new_n_sigma < epsilon\n",
    "    n_sigma[mask] = new_n_sigma[mask]\n",
    "    random_values = np.random.randn(len(chromosome))\n",
    "    mutated_chromosome = chromosome + n_sigma * random_values\n",
    "    return mutated_chromosome, n_sigma"
   ]
  },
  {
   "cell_type": "markdown",
   "id": "fc456167",
   "metadata": {},
   "source": [
    "$$ \\sigma' = \\sigma \\cdot \\exp\\left(\\tau \\cdot \\mathcal{N}(0,1)\\right) $$\n",
    "\n",
    "$$ x'_i = x_i + \\sigma' \\cdot \\mathcal{N}(0,1) $$\n",
    "\n",
    "$ \\tau $ is proportional to $ \\frac{1}{\\sqrt{n}} $\n",
    "\n",
    "$ \\mathcal{N}(0,1) $ represents a random value drawn from a standard normal distribution,\n",
    "\n",
    "$ \\sigma' < \\epsilon_0 $ implies $ \\sigma' = \\epsilon_0 $.\n",
    "\n"
   ]
  },
  {
   "cell_type": "code",
   "execution_count": 13,
   "id": "80832c70",
   "metadata": {},
   "outputs": [],
   "source": [
    "def uncorrelated_mutation_one_sigma(chromosome, one_sigma, epsilon=1e-10):\n",
    "    random_value = np.random.randn()\n",
    "    tau = 1 / np.sqrt(len(chromosome))\n",
    "    new_one_sigma = one_sigma\n",
    "    new_one_sigma *= np.exp(tau * random_value)\n",
    "    if new_one_sigma < epsilon:\n",
    "        new_one_sigma = one_sigma\n",
    "    random_value = np.random.randn()\n",
    "    mutated_chromosome = chromosome + new_one_sigma * random_value\n",
    "    return mutated_chromosome, one_sigma"
   ]
  },
  {
   "cell_type": "code",
   "execution_count": 14,
   "id": "03684b9d",
   "metadata": {},
   "outputs": [],
   "source": [
    "def elitism_survival_selection(objective_function,chromosome_length, parents, offsprings):\n",
    "    combined_population = np.vstack((parents, offsprings))\n",
    "    chromosomes = np.array(combined_population)[:, range(0, chromosome_length)]\n",
    "    if objective_function == \"schwefel_function\":\n",
    "        new_generation_indices = np.argsort(schwefel_function(combined_population))[:len(parents)]\n",
    "    elif objective_function == \"ackley_function\":\n",
    "        new_generation_indices = np.argsort(ackley_function(combined_population))[:len(parents)]\n",
    "    new_generation = combined_population[new_generation_indices]\n",
    "    return new_generation"
   ]
  },
  {
   "cell_type": "code",
   "execution_count": 15,
   "id": "6d15953d",
   "metadata": {},
   "outputs": [],
   "source": [
    "def genrational_survival_selection(objective_function,chromosome_length, parents, offsprings):\n",
    "    chromosomes = np.array(offsprings)[:, range(0, chromosome_length)]\n",
    "    new_generation = []\n",
    "    if objective_function == \"schwefel_function\":\n",
    "        new_generation = np.sort(schwefel_function(offsprings))[:len(parents)]\n",
    "    elif objective_function == \"ackley_function\":\n",
    "        new_generation = np.sort(ackley_function(offsprings))[:len(parents)]\n",
    "    return new_generation\n"
   ]
  },
  {
   "cell_type": "code",
   "execution_count": 16,
   "id": "efef19e4",
   "metadata": {},
   "outputs": [],
   "source": [
    "def calculate_fitness(objective_function, chromosome):\n",
    "    fitness = objective_function(chromosome)\n",
    "    return fitness"
   ]
  },
  {
   "cell_type": "code",
   "execution_count": 17,
   "id": "b4ec1fce",
   "metadata": {},
   "outputs": [],
   "source": [
    "def generate_offspring(objective_function, population, chromosome_length, num_offspring, num_parents_involved=2):\n",
    "    offsprings = []\n",
    "    while len(offsprings) < num_offspring:\n",
    "        if objective_function == \"schwefel_function\":\n",
    "            selected_parents_indices = np.random.choice(len(population), size=num_parents_involved, replace=True)\n",
    "            selected_parents = [population[i] for i in selected_parents_indices]\n",
    "            offspring = local_discrete_recombination(selected_parents)\n",
    "            offspring = uncorrelated_mutation_n_sigma(offspring[:chromosome_length], offspring[chromosome_length:])\n",
    "        elif objective_function == \"ackley_function\":\n",
    "            selected_parents_indices = np.random.choice(len(population), size=num_parents_involved, replace=True)\n",
    "            selected_parents = [population[i] for i in selected_parents_indices]\n",
    "            offspring = local_discrete_recombination(selected_parents)\n",
    "            object_p, strategy_p = uncorrelated_mutation_n_sigma(offspring[:chromosome_length], offspring[chromosome_length:])\n",
    "            offspring = list(object_p) + list(strategy_p)\n",
    "        offsprings.append(offspring)\n",
    "    return offsprings[:num_offspring]"
   ]
  },
  {
   "cell_type": "code",
   "execution_count": 18,
   "id": "56c44def",
   "metadata": {},
   "outputs": [],
   "source": [
    "def check_solution(objective_function, chromosome_length, population):\n",
    "        chromosomes = np.array(population)[:, range(0, chromosome_length)]\n",
    "        result_list = []\n",
    "        if objective_function == \"schwefel_function\":\n",
    "            result_list = [schwefel_function(x) for x in chromosomes]\n",
    "            sorted_result = sorted(result_list)\n",
    "        elif objective_function == \"ackley_function\":\n",
    "            result_list = [ackley_function(x) for x in chromosomes]\n",
    "            sorted_result = sorted(result_list)\n",
    "        return result_list[0]"
   ]
  },
  {
   "cell_type": "code",
   "execution_count": 19,
   "id": "06ba058c",
   "metadata": {},
   "outputs": [],
   "source": [
    "def evolutionary_strategy(objective_function, survival_method, max_generations, population_size, chromosome_length, num_offspring):\n",
    "    offsprings = []\n",
    "    population = []\n",
    "    new_generation = []\n",
    "    count_generations = 0\n",
    "    initial_sigma = 0.1\n",
    "    if objective_function == \"schwefel_function\":\n",
    "        population = population_initialization(population_size, chromosome_length, (-500, 500), initial_sigma)\n",
    "    elif objective_function == \"ackley_function\":\n",
    "        population = population_initialization(population_size, chromosome_length, (-32.768, 32.768) ,initial_sigma)\n",
    "        \n",
    "    while count_generations < max_generations: # fix termination_condition\n",
    "        if objective_function == \"schwefel_function\":\n",
    "            offsprings = generate_offspring(objective_function, population, chromosome_length, num_offspring)\n",
    "        elif objective_function == \"ackley_function\":\n",
    "            offsprings = generate_offspring(objective_function, population, chromosome_length, num_offspring)\n",
    "        if survival_method == \"elitism\":\n",
    "            new_generation = elitism_survival_selection(objective_function, chromosome_length, population, offsprings)\n",
    "        elif survival_method == \"generational\":\n",
    "            new_generation = genrational_survival_selection(objective_function, chromosome_length, population, offsprings)\n",
    "        population = new_generation\n",
    "        count_generations += 1\n",
    "    solution = check_solution(objective_function, chromosome_length, population)\n",
    "    return solution\n",
    "    "
   ]
  },
  {
   "cell_type": "code",
   "execution_count": 23,
   "id": "be786ea3",
   "metadata": {},
   "outputs": [
    {
     "ename": "ValueError",
     "evalue": "all the input arrays must have same number of dimensions, but the array at index 0 has 2 dimension(s) and the array at index 1 has 3 dimension(s)",
     "output_type": "error",
     "traceback": [
      "\u001b[1;31m---------------------------------------------------------------------------\u001b[0m",
      "\u001b[1;31mValueError\u001b[0m                                Traceback (most recent call last)",
      "Cell \u001b[1;32mIn[23], line 1\u001b[0m\n\u001b[1;32m----> 1\u001b[0m evolutionary_strategy(\u001b[38;5;124m\"\u001b[39m\u001b[38;5;124mschwefel_function\u001b[39m\u001b[38;5;124m\"\u001b[39m, \u001b[38;5;124m\"\u001b[39m\u001b[38;5;124melitism\u001b[39m\u001b[38;5;124m\"\u001b[39m, \u001b[38;5;241m200\u001b[39m, \u001b[38;5;241m15\u001b[39m, \u001b[38;5;241m5\u001b[39m, \u001b[38;5;241m7\u001b[39m\u001b[38;5;241m*\u001b[39m\u001b[38;5;241m15\u001b[39m)\n",
      "Cell \u001b[1;32mIn[19], line 18\u001b[0m, in \u001b[0;36mevolutionary_strategy\u001b[1;34m(objective_function, survival_method, max_generations, population_size, chromosome_length, num_offspring)\u001b[0m\n\u001b[0;32m     16\u001b[0m     offsprings \u001b[38;5;241m=\u001b[39m generate_offspring(objective_function, population, chromosome_length, num_offspring)\n\u001b[0;32m     17\u001b[0m \u001b[38;5;28;01mif\u001b[39;00m survival_method \u001b[38;5;241m==\u001b[39m \u001b[38;5;124m\"\u001b[39m\u001b[38;5;124melitism\u001b[39m\u001b[38;5;124m\"\u001b[39m:\n\u001b[1;32m---> 18\u001b[0m     new_generation \u001b[38;5;241m=\u001b[39m elitism_survival_selection(objective_function, chromosome_length, population, offsprings)\n\u001b[0;32m     19\u001b[0m \u001b[38;5;28;01melif\u001b[39;00m survival_method \u001b[38;5;241m==\u001b[39m \u001b[38;5;124m\"\u001b[39m\u001b[38;5;124mgenerational\u001b[39m\u001b[38;5;124m\"\u001b[39m:\n\u001b[0;32m     20\u001b[0m     new_generation \u001b[38;5;241m=\u001b[39m genrational_survival_selection(objective_function, chromosome_length, population, offsprings)\n",
      "Cell \u001b[1;32mIn[14], line 2\u001b[0m, in \u001b[0;36melitism_survival_selection\u001b[1;34m(objective_function, chromosome_length, parents, offsprings)\u001b[0m\n\u001b[0;32m      1\u001b[0m \u001b[38;5;28;01mdef\u001b[39;00m \u001b[38;5;21melitism_survival_selection\u001b[39m(objective_function,chromosome_length, parents, offsprings):\n\u001b[1;32m----> 2\u001b[0m     combined_population \u001b[38;5;241m=\u001b[39m np\u001b[38;5;241m.\u001b[39mvstack((parents, offsprings))\n\u001b[0;32m      3\u001b[0m     chromosomes \u001b[38;5;241m=\u001b[39m np\u001b[38;5;241m.\u001b[39marray(combined_population)[:, \u001b[38;5;28mrange\u001b[39m(\u001b[38;5;241m0\u001b[39m, chromosome_length)]\n\u001b[0;32m      4\u001b[0m     \u001b[38;5;28;01mif\u001b[39;00m objective_function \u001b[38;5;241m==\u001b[39m \u001b[38;5;124m\"\u001b[39m\u001b[38;5;124mschwefel_function\u001b[39m\u001b[38;5;124m\"\u001b[39m:\n",
      "File \u001b[1;32m<__array_function__ internals>:200\u001b[0m, in \u001b[0;36mvstack\u001b[1;34m(*args, **kwargs)\u001b[0m\n",
      "File \u001b[1;32mC:\\ProgramData\\anaconda3\\Lib\\site-packages\\numpy\\core\\shape_base.py:296\u001b[0m, in \u001b[0;36mvstack\u001b[1;34m(tup, dtype, casting)\u001b[0m\n\u001b[0;32m    294\u001b[0m \u001b[38;5;28;01mif\u001b[39;00m \u001b[38;5;129;01mnot\u001b[39;00m \u001b[38;5;28misinstance\u001b[39m(arrs, \u001b[38;5;28mlist\u001b[39m):\n\u001b[0;32m    295\u001b[0m     arrs \u001b[38;5;241m=\u001b[39m [arrs]\n\u001b[1;32m--> 296\u001b[0m \u001b[38;5;28;01mreturn\u001b[39;00m _nx\u001b[38;5;241m.\u001b[39mconcatenate(arrs, \u001b[38;5;241m0\u001b[39m, dtype\u001b[38;5;241m=\u001b[39mdtype, casting\u001b[38;5;241m=\u001b[39mcasting)\n",
      "File \u001b[1;32m<__array_function__ internals>:200\u001b[0m, in \u001b[0;36mconcatenate\u001b[1;34m(*args, **kwargs)\u001b[0m\n",
      "\u001b[1;31mValueError\u001b[0m: all the input arrays must have same number of dimensions, but the array at index 0 has 2 dimension(s) and the array at index 1 has 3 dimension(s)"
     ]
    }
   ],
   "source": [
    "evolutionary_strategy(\"schwefel_function\", \"elitism\", 200, 15, 5, 7*15)"
   ]
  },
  {
   "cell_type": "code",
   "execution_count": null,
   "id": "21bd7f7c",
   "metadata": {},
   "outputs": [],
   "source": [
    "# Example usage:\n",
    "es = EvolutionaryStrategy(\"schwefel_function\", \"elitism\", 200, 15, 5, 7*15)\n",
    "result = es.run()\n",
    "print(result)"
   ]
  }
 ],
 "metadata": {
  "kernelspec": {
   "display_name": "Python 3 (ipykernel)",
   "language": "python",
   "name": "python3"
  },
  "language_info": {
   "codemirror_mode": {
    "name": "ipython",
    "version": 3
   },
   "file_extension": ".py",
   "mimetype": "text/x-python",
   "name": "python",
   "nbconvert_exporter": "python",
   "pygments_lexer": "ipython3",
   "version": "3.11.5"
  }
 },
 "nbformat": 4,
 "nbformat_minor": 5
}
