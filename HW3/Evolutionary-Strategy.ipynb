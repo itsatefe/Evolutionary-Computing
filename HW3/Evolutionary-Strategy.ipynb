{
 "cells": [
  {
   "cell_type": "code",
   "execution_count": 2,
   "id": "ed948340",
   "metadata": {},
   "outputs": [],
   "source": [
    "import numpy as np"
   ]
  },
  {
   "cell_type": "markdown",
   "id": "bc59ee6c",
   "metadata": {},
   "source": [
    "# Schwefel function\n",
    "$$ f(x) = 418.9829n - \\sum_{i=1}^{n}x_i \\sin(\\sqrt{|x_i|}) $$"
   ]
  },
  {
   "cell_type": "code",
   "execution_count": 37,
   "id": "ff4effd2",
   "metadata": {},
   "outputs": [],
   "source": [
    "def schwefel_function(x):\n",
    "    n = len(x)\n",
    "    a = 418.9829\n",
    "    sum_term = np.sum(x * np.sin(np.sqrt(np.abs(x))))\n",
    "    result = a * n - sum_term\n",
    "    return result"
   ]
  },
  {
   "cell_type": "code",
   "execution_count": 63,
   "id": "8518c800",
   "metadata": {},
   "outputs": [
    {
     "name": "stdout",
     "output_type": "stream",
     "text": [
      "Schwefel function value for [420.9687 420.9687 420.9687]: 3.818351251538843e-05\n"
     ]
    }
   ],
   "source": [
    "dimension = 5\n",
    "range_x = [-500, 500]\n",
    "random_vector = np.random.uniform(range_x, dimension)\n",
    "random_vector = np.array([420.9687,420.9687,420.9687])\n",
    "result = schwefel_function(random_vector)\n",
    "print(f\"Schwefel function value for {random_vector}: {result}\")"
   ]
  },
  {
   "cell_type": "markdown",
   "id": "288cb9b6",
   "metadata": {},
   "source": [
    "# Ackley function\n",
    "$$ f(x) = -20 \\exp\\left(-0.2 \\sqrt{\\frac{1}{n} \\sum_{i=1}^{n}x_i^2}\\right) - \\exp\\left(\\frac{1}{n}\\sum_{i=1}^{n}\\cos(2\\pi x_i)\\right) + 20 + e $$\n"
   ]
  },
  {
   "cell_type": "code",
   "execution_count": 55,
   "id": "6e6d231a",
   "metadata": {},
   "outputs": [],
   "source": [
    "def ackley_function(x):\n",
    "    n = len(x)\n",
    "    a = 20\n",
    "    b = 0.2\n",
    "    c = 2 * np.pi\n",
    "    term1 = -a * np.exp(-b * np.sqrt((1/n) * np.sum(x**2)))\n",
    "    term2 = -np.exp((1/n) * np.sum(np.cos(c * x)))\n",
    "    result = term1 + term2 + 20 + np.exp(1)\n",
    "    return result"
   ]
  },
  {
   "cell_type": "code",
   "execution_count": 57,
   "id": "d7e16554",
   "metadata": {},
   "outputs": [
    {
     "name": "stdout",
     "output_type": "stream",
     "text": [
      "Ackley function value for [0 0]: 4.440892098500626e-16\n"
     ]
    }
   ],
   "source": [
    "dimension = 5\n",
    "range_x = [-32.768, 32.768]\n",
    "# random_vector = np.random.uniform(range_x, dimension)\n",
    "random_vector = np.array([0,0])\n",
    "result = ackley_function(random_vector)\n",
    "print(f\"Ackley function value for {random_vector}: {result}\")"
   ]
  },
  {
   "cell_type": "markdown",
   "id": "80205955",
   "metadata": {},
   "source": [
    "# Evolutionary Startegy"
   ]
  },
  {
   "cell_type": "markdown",
   "id": "9fc48c00",
   "metadata": {},
   "source": [
    "Ackley Function:\n",
    "\n",
    "    Diversity and Exploration:\n",
    "        The Ackley function, with its single, wide global minimum surrounded by many local minima, benefits from exploration to escape local optima.\n",
    "        Discrete recombination, by introducing diversity within the phenotype space, may be beneficial for exploring different regions of the search space.\n",
    "\n",
    "    Strategy Parameters:\n",
    "        Since the Ackley function requires a balance between exploration and exploitation, a combination of discrete recombination for the object variable part and intermediate recombination for strategy parameters may be a reasonable choice."
   ]
  },
  {
   "cell_type": "markdown",
   "id": "c8601944",
   "metadata": {},
   "source": [
    "Schwefel Function:\n",
    "    \n",
    "    Multimodality and Local Minima:\n",
    "        The Schwefel function, being highly multimodal with many local minima, requires effective exploration to discover the global minimum.\n",
    "        Global recombination, involving more than two parents and allowing for diverse combinations, may help the algorithm escape local minima and explore the complex landscape.\n",
    "\n",
    "    Adaptation of Strategy Parameters:\n",
    "        The rugged landscape of the Schwefel function suggests that cautious adaptation of strategy parameters is important.\n",
    "        Intermediate recombination for strategy parameters can contribute to a more cautious adjustment of mutation or recombination step sizes.\n",
    "\n"
   ]
  },
  {
   "cell_type": "code",
   "execution_count": null,
   "id": "4da809b8",
   "metadata": {},
   "outputs": [],
   "source": [
    "def population_initialization():\n",
    "    "
   ]
  },
  {
   "cell_type": "code",
   "execution_count": 67,
   "id": "de0e37d1",
   "metadata": {},
   "outputs": [],
   "source": [
    "# Randomly choose one parent for each gene\n",
    "def global_discrete_recombination(population, num_parents_per_gene=2):\n",
    "    num_genes = len(population[0])\n",
    "    selected_parents = np.random.choice(population, size=(num_genes, num_parents_per_gene), replace=True)\n",
    "    offspring = np.array([np.random.choice(selected_parents[gene]) for gene in range(num_genes)])\n",
    "    return offspring"
   ]
  },
  {
   "cell_type": "code",
   "execution_count": 65,
   "id": "889271bb",
   "metadata": {},
   "outputs": [],
   "source": [
    "# Randomly select genes from either parent\n",
    "def local_discrete_recombination(parent1, parent2):\n",
    "    offspring = np.zeros_like(parent1)\n",
    "    for i in range(len(offspring)):\n",
    "        if np.random.rand() < 0.5:\n",
    "            offspring[i] = parent1[i]\n",
    "        else:\n",
    "            offspring[i] = parent2[i]\n",
    "    return offspring"
   ]
  },
  {
   "cell_type": "code",
   "execution_count": 66,
   "id": "be8f12cc",
   "metadata": {},
   "outputs": [],
   "source": [
    "# Taking the average\n",
    "def local_intermediary_recombination(parent1, parent2):\n",
    "    offspring = (parent1 + parent2) / 2.0 \n",
    "    return offspring"
   ]
  },
  {
   "cell_type": "code",
   "execution_count": 68,
   "id": "b7b03c7f",
   "metadata": {},
   "outputs": [],
   "source": [
    "# Take the average of Randomly select parents for each gene\n",
    "def global_intermediary_recombination(population, num_parents_per_gene=2):\n",
    "    num_genes = len(population[0])\n",
    "    selected_parents = np.random.choice(population, size=(num_genes, num_parents_per_gene), replace=True)\n",
    "    offspring = np.mean(selected_parents, axis=1)\n",
    "    return offspring"
   ]
  },
  {
   "cell_type": "markdown",
   "id": "f5e4cefe",
   "metadata": {},
   "source": [
    "$$ \\sigma'_i = \\sigma_i \\cdot \\exp\\left(\\tau' \\cdot \\mathcal{N}(0,1) + \\tau \\cdot \\mathcal{N_i}(0,1)\\right) $$\n",
    "\n",
    "$$ x'_i = x_i + \\sigma'_i \\cdot \\mathcal{N}(0,1) $$\n",
    "\n",
    "$ \\tau $ is proportional to $ \\frac{1}{\\sqrt{2n}} $\n",
    "\n",
    "$ \\tau' $ is proportional to $ \\frac{1}{\\sqrt{2\\sqrt{n}}} $\n",
    "\n",
    "$ \\mathcal{N}(0,1) $ represents a random value drawn from a standard normal distribution,\n",
    "\n",
    "$ \\sigma'_i < \\epsilon_0 $ implies $ \\sigma'_i = \\epsilon_0 $.\n",
    "\n"
   ]
  },
  {
   "cell_type": "code",
   "execution_count": 74,
   "id": "5c7ce9f6",
   "metadata": {},
   "outputs": [],
   "source": [
    "def uncorrelated_mutation_n_sigma(chromosome, n_sigma, epsilon):\n",
    "    random_values = np.random.randn(len(chromosome))\n",
    "    tau = 1 / np.sqrt(2 * len(chromosome))\n",
    "    tau_prime = 1 / np.sqrt(2 * np.sqrt(len(chromosome)))\n",
    "    new_n_sigma = n_sigma * np.exp(tau_prime * np.random.randn() + tau * random_values)\n",
    "    mask = new_n_sigma < epsilon\n",
    "    n_sigma[mask] = new_n_sigma[mask]\n",
    "    random_values = np.random.randn(len(chromosome))\n",
    "    mutated_chromosome = chromosome + n_sigma * random_values\n",
    "    return mutated_chromosome, n_sigma"
   ]
  },
  {
   "cell_type": "markdown",
   "id": "fc456167",
   "metadata": {},
   "source": [
    "$$ \\sigma' = \\sigma \\cdot \\exp\\left(\\tau \\cdot \\mathcal{N}(0,1)\\right) $$\n",
    "\n",
    "$$ x'_i = x_i + \\sigma' \\cdot \\mathcal{N}(0,1) $$\n",
    "\n",
    "$ \\tau $ is proportional to $ \\frac{1}{\\sqrt{n}} $\n",
    "\n",
    "$ \\mathcal{N}(0,1) $ represents a random value drawn from a standard normal distribution,\n",
    "\n",
    "$ \\sigma' < \\epsilon_0 $ implies $ \\sigma' = \\epsilon_0 $.\n",
    "\n"
   ]
  },
  {
   "cell_type": "code",
   "execution_count": 75,
   "id": "80832c70",
   "metadata": {},
   "outputs": [],
   "source": [
    "def uncorrelated_mutation_one_sigma(chromosome, one_sigma, epsilon):\n",
    "    random_value = np.random.randn()\n",
    "    tau = 1 / np.sqrt(len(chromosome))\n",
    "    one_sigma *= np.exp(tau * random_value)\n",
    "    random_value = np.random.randn()\n",
    "    mutated_chromosome = chromosome + one_sigma * random_value\n",
    "    return mutated_chromosome, one_sigma"
   ]
  },
  {
   "cell_type": "code",
   "execution_count": 76,
   "id": "03684b9d",
   "metadata": {},
   "outputs": [],
   "source": [
    "def elitism_survival_selection(parents, offsprings, objective_function):\n",
    "    combined_population = np.vstack((parents, offsprings))\n",
    "    new_generation_indices = np.argsort(objective_function(combined_population))[:len(parents)]\n",
    "    new_generation = combined_population[new_generation_indices]\n",
    "    return new_generation"
   ]
  },
  {
   "cell_type": "code",
   "execution_count": 77,
   "id": "6d15953d",
   "metadata": {},
   "outputs": [],
   "source": [
    "def genrational_survival_selection(parents, offsprings, objective_function):\n",
    "    new_generation = np.sort(objective_function(offsprings))[:len(parents)]\n",
    "    return new_generation"
   ]
  },
  {
   "cell_type": "code",
   "execution_count": null,
   "id": "501e8506",
   "metadata": {},
   "outputs": [],
   "source": []
  },
  {
   "cell_type": "code",
   "execution_count": null,
   "id": "efef19e4",
   "metadata": {},
   "outputs": [],
   "source": []
  }
 ],
 "metadata": {
  "kernelspec": {
   "display_name": "Python 3 (ipykernel)",
   "language": "python",
   "name": "python3"
  },
  "language_info": {
   "codemirror_mode": {
    "name": "ipython",
    "version": 3
   },
   "file_extension": ".py",
   "mimetype": "text/x-python",
   "name": "python",
   "nbconvert_exporter": "python",
   "pygments_lexer": "ipython3",
   "version": "3.11.5"
  }
 },
 "nbformat": 4,
 "nbformat_minor": 5
}
