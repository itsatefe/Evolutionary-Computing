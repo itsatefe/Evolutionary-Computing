{
 "cells": [
  {
   "cell_type": "code",
   "execution_count": 1,
   "id": "780756fb",
   "metadata": {},
   "outputs": [],
   "source": [
    "import numpy as np\n",
    "import jdc\n",
    "import random\n",
    "import matplotlib.pyplot as plt\n",
    "import math"
   ]
  },
  {
   "cell_type": "code",
   "execution_count": 2,
   "id": "80f90502",
   "metadata": {},
   "outputs": [],
   "source": [
    "class Road_Alignment:\n",
    "    def __init__(self,data,pop_size):\n",
    "        self.data = data\n",
    "        self.shape = data.shape\n",
    "        self.pop_size = pop_size\n",
    "        self.population = None"
   ]
  },
  {
   "cell_type": "code",
   "execution_count": 3,
   "id": "38f29bc0",
   "metadata": {},
   "outputs": [],
   "source": [
    "%%add_to Road_Alignment\n",
    "def initialize_population(self):\n",
    "    self.population = []\n",
    "    for i in range(self.pop_size):\n",
    "        chromosome = self._initialize_chromosome()\n",
    "        self.population.append(chromosome)"
   ]
  },
  {
   "cell_type": "code",
   "execution_count": 4,
   "id": "aa760095",
   "metadata": {},
   "outputs": [],
   "source": [
    "%%add_to Road_Alignment\n",
    "def _initialize_chromosome(self):\n",
    "    chromosome = [(-1, -1)] * (self.data.shape[1])\n",
    "    min_genes = 1\n",
    "    max_genes = self.data.shape[1]\n",
    "#     max_genes = 10\n",
    "    num_genes = random.randint(min_genes, max_genes)\n",
    "    genes = self._initialize_genes(num_genes)\n",
    "    chromosome[0] = genes[0] \n",
    "    chromosome[-1] = genes[-1] \n",
    "    last_index = 0\n",
    "    for idx, (i, j) in enumerate(genes):\n",
    "        if idx == 0 or idx == len(genes) -1:\n",
    "            continue\n",
    "        next_index = random.randint(last_index + 1, len(chromosome) - len(genes) + idx)\n",
    "        chromosome[next_index] = (i,j)\n",
    "        last_index = next_index\n",
    "    return chromosome"
   ]
  },
  {
   "cell_type": "code",
   "execution_count": 5,
   "id": "93260692",
   "metadata": {},
   "outputs": [],
   "source": [
    "%%add_to Road_Alignment\n",
    "def _initialize_genes(self, num_genes):\n",
    "    first_gene = (0, random.randint(0, self.data.shape[0] - 1))\n",
    "    distinct_tuples = []\n",
    "    distinct_tuples.append(first_gene)\n",
    "    count = 0\n",
    "    while len(distinct_tuples) < num_genes:\n",
    "        new_tuple = self._initialize_gene(len(distinct_tuples), num_genes)\n",
    "        if new_tuple[0] > distinct_tuples[-1][0]:\n",
    "            distinct_tuples.append(new_tuple)\n",
    "        count += 1\n",
    "    if distinct_tuples[-1] != (self.data.shape[1] - 1):\n",
    "        y_coordinate = random.randint(0,self.data.shape[0] - 1)\n",
    "        distinct_tuples.append((self.data.shape[1] - 1 ,y_coordinate))\n",
    "    return distinct_tuples"
   ]
  },
  {
   "cell_type": "code",
   "execution_count": 6,
   "id": "af5baa24",
   "metadata": {},
   "outputs": [],
   "source": [
    "%%add_to Road_Alignment\n",
    "def _initialize_gene(self, generated_num, num_genes):\n",
    "    x = random_generation(0, self.data.shape[1] - 1 , generated_num, num_genes)\n",
    "    y = random_generation(0, self.data.shape[0] - 1 , generated_num, num_genes)\n",
    "    return x,y"
   ]
  },
  {
   "cell_type": "code",
   "execution_count": 7,
   "id": "74c0f21b",
   "metadata": {},
   "outputs": [],
   "source": [
    "%%add_to Road_Alignment\n",
    "def random_generation(start, end, numbers, num_numbers):\n",
    "    \n",
    "    segment_width = (end - start + 1) / num_numbers\n",
    "    random_offset = random.uniform(0, segment_width)\n",
    "    \n",
    "    random_number = math.ceil(start + (numbers + 1) * segment_width + random_offset)\n",
    "    return random_number"
   ]
  },
  {
   "cell_type": "code",
   "execution_count": 8,
   "id": "802da8b6",
   "metadata": {},
   "outputs": [],
   "source": [
    "%%add_to Road_Alignment\n",
    "def chromosome_genes(self,chromosome):\n",
    "    genes = []\n",
    "    for i, (x,y) in enumerate(chromosome):\n",
    "        if (x,y) != (-1, -1):\n",
    "            genes.append((x,y))\n",
    "    return genes"
   ]
  },
  {
   "cell_type": "code",
   "execution_count": 9,
   "id": "137d312b",
   "metadata": {},
   "outputs": [],
   "source": [
    "%%add_to Road_Alignment\n",
    "def calculate_fitness(self,chromosome):\n",
    "    \n",
    "    genes = self.chromosome_genes(chromosome)\n",
    "    total_cost = 0.0 \n",
    "    for i in range(len(genes) - 1):\n",
    "        x1, y1 = genes[i]\n",
    "        x2, y2 = genes[i + 1]\n",
    "        if abs(x1 - x2) == 1 and abs(y1 - y2) <= 1:\n",
    "            road_cost = self.data[y1][x1]\n",
    "            total_cost += road_cost\n",
    "        else:\n",
    "            distance_cost = (x2 - x1)**2 + (y2 - y1)**2\n",
    "            total_cost += distance_cost\n",
    "\n",
    "    return total_cost"
   ]
  },
  {
   "cell_type": "code",
   "execution_count": 10,
   "id": "c6ebb5c8",
   "metadata": {},
   "outputs": [],
   "source": [
    "%%add_to Road_Alignment\n",
    "def parent_tournament_selection(self, tournament_size=5):\n",
    "    tournament_candidates = random.sample(self.population, tournament_size)\n",
    "    winner = min(tournament_candidates, key=lambda ind: self.calculate_fitness(ind))\n",
    "    tournament_candidates = random.sample(self.population, tournament_size)\n",
    "    runner_up = min(tournament_candidates, key=lambda ind: self.calculate_fitness(ind))\n",
    "    return winner, runner_up"
   ]
  },
  {
   "cell_type": "code",
   "execution_count": 11,
   "id": "b4d53e2e",
   "metadata": {},
   "outputs": [],
   "source": [
    "%%add_to Road_Alignment\n",
    "def uniform_crossover(self,parent1, parent2, crossover_probability=0.5):\n",
    "    offspring1 = np.zeros_like(parent1)\n",
    "    offspring2 = np.zeros_like(parent2)\n",
    "\n",
    "    for i in range(len(parent1)):\n",
    "        if np.random.rand() < crossover_probability:\n",
    "            offspring1[i] = parent1[i]\n",
    "            offspring2[i] = parent2[i]\n",
    "        else:\n",
    "            offspring1[i] = parent2[i]\n",
    "            offspring2[i] = parent1[i]\n",
    "\n",
    "    return offspring1, offspring2"
   ]
  },
  {
   "cell_type": "code",
   "execution_count": 12,
   "id": "a49640a0",
   "metadata": {},
   "outputs": [],
   "source": [
    "%%add_to Road_Alignment\n",
    "def mutate(self,chromosome,mutation_probability = 0.1):\n",
    "    mutated_chromosome = np.copy(chromosome)\n",
    "\n",
    "    for i in range(len(chromosome)):\n",
    "        if np.random.rand() < mutation_probability:\n",
    "            x, y = mutated_chromosome[i]\n",
    "            if i == 0 or i == len(chromosome) - 1:\n",
    "                y = np.clip(y + np.random.randint(-2, 2), 0, self.data.shape[0] - 1)\n",
    "                mutated_chromosome[i] = (x, y)\n",
    "                continue\n",
    "            if np.random.rand() < 0.5:\n",
    "                x = np.clip(x + np.random.randint(-5, 5), 0, self.data.shape[1] - 1)\n",
    "                y = np.clip(y + np.random.randint(-2, 2), 0, self.data.shape[0] - 1)\n",
    "            else:\n",
    "                x = -1\n",
    "                y = -1\n",
    "            mutated_chromosome[i] = (x, y)\n",
    "    offspring = list(mutated_chromosome)\n",
    "    return offspring"
   ]
  },
  {
   "cell_type": "code",
   "execution_count": 13,
   "id": "0025f76f",
   "metadata": {},
   "outputs": [],
   "source": [
    "%%add_to Road_Alignment\n",
    "def generate_offspring(self, num_offspring):\n",
    "    offsprings = []\n",
    "    while len(offsprings) < num_offspring:\n",
    "        parent1 = self.parent_tournament_selection()[0]\n",
    "        parent2 = self.parent_tournament_selection()[1]\n",
    "        offspring1, offspring2 = self.uniform_crossover(parent1, parent2)\n",
    "        \n",
    "        offspring1 = self.mutate(offspring1)\n",
    "        offspring2 = self.mutate(offspring2)\n",
    "        offsprings.extend([offspring1, offspring2])\n",
    "    return offsprings[:num_offspring]"
   ]
  },
  {
   "cell_type": "code",
   "execution_count": 14,
   "id": "f136f4c6",
   "metadata": {},
   "outputs": [],
   "source": [
    "%%add_to Road_Alignment\n",
    "def elitism_survival_selection(self, fitness_values, offsprings, num_elite):\n",
    "    sorted_indices = np.argsort(fitness_values)\n",
    "    elite_indices = sorted_indices[:num_elite]\n",
    "    elite_individuals = [self.population[i] for i in elite_indices]\n",
    "    new_generation = elite_individuals + offsprings\n",
    "    return new_generation"
   ]
  },
  {
   "cell_type": "code",
   "execution_count": 15,
   "id": "5878fea4",
   "metadata": {},
   "outputs": [],
   "source": [
    "%%add_to Road_Alignment\n",
    "def terminate(self, generation, max_generations, convergence_threshold, no_improvement_threshold, best_fitness_values):\n",
    "    if generation >= max_generations:\n",
    "        return True\n",
    "    \n",
    "    if has_converged(best_fitness_values, convergence_threshold):\n",
    "        return True\n",
    "    \n",
    "    if no_improvement(best_fitness_values, no_improvement_threshold):\n",
    "        return True\n",
    "    \n",
    "    return False"
   ]
  },
  {
   "cell_type": "code",
   "execution_count": 16,
   "id": "af81bd92",
   "metadata": {},
   "outputs": [],
   "source": [
    "def has_converged(best_fitness_values, convergence_threshold):\n",
    "    if len(best_fitness_values) > 1:\n",
    "        last_best_fitness = best_fitness_values[-2]\n",
    "        current_best_fitness = best_fitness_values[-1]\n",
    "        \n",
    "        change_in_fitness = np.abs(current_best_fitness - last_best_fitness)\n",
    "        \n",
    "        return change_in_fitness < convergence_threshold\n",
    "    \n",
    "    return False"
   ]
  },
  {
   "cell_type": "code",
   "execution_count": 17,
   "id": "6f5cc66d",
   "metadata": {},
   "outputs": [],
   "source": [
    "def no_improvement(best_fitness_values, no_improvement_threshold):\n",
    "    if len(best_fitness_values) > no_improvement_threshold:\n",
    "        recent_best_fitness = best_fitness_values[-no_improvement_threshold:]\n",
    "        improvement_check = all(recent_best_fitness[i] >= recent_best_fitness[i + 1] for i in range(no_improvement_threshold - 1))   \n",
    "        return improvement_check\n",
    "    \n",
    "    return False\n",
    "    "
   ]
  },
  {
   "cell_type": "code",
   "execution_count": 18,
   "id": "e642ab1e",
   "metadata": {},
   "outputs": [],
   "source": [
    "%%add_to Road_Alignment\n",
    "def extract_solution(self,population, fitness_values):\n",
    "    best_index = np.argmin(fitness_values)\n",
    "    best_individual = population[best_index]\n",
    "    return best_individual"
   ]
  },
  {
   "cell_type": "code",
   "execution_count": 19,
   "id": "eed6482b",
   "metadata": {},
   "outputs": [],
   "source": [
    "%%add_to Road_Alignment\n",
    "def visualize_map(self):\n",
    "    plt.imshow(self.data, cmap='YlGn', interpolation='nearest')\n",
    "    cbar = plt.colorbar()\n",
    "    plt.gca().invert_yaxis()\n",
    "    cbar.set_label('Roughness Level')\n",
    "    plt.title('Map Roughness')\n",
    "#     plt.show()\n",
    "    return plt"
   ]
  },
  {
   "cell_type": "code",
   "execution_count": 20,
   "id": "50ff3fd3",
   "metadata": {},
   "outputs": [],
   "source": [
    "%%add_to Road_Alignment\n",
    "def visualize_chromosome(self, plt,chromosome):\n",
    "    genes = self.chromosome_genes(chromosome)\n",
    "    for i in range(len(genes) - 1):\n",
    "        x1, y1 = genes[i]\n",
    "        x2, y2 = genes[i + 1]\n",
    "        if abs(x1 - x2) == 1 and abs(y1 - y2) <= 1:\n",
    "            plt.plot([x1, x2], [y1, y2], marker='o', linestyle='-',color='black')\n",
    "        else:\n",
    "            plt.plot([x1, x2], [y1, y2], marker='o', linestyle='-',color='red')\n",
    "\n",
    "    plt.title('chromosome')\n",
    "    plt.show()"
   ]
  },
  {
   "cell_type": "code",
   "execution_count": 21,
   "id": "6c2dd95b",
   "metadata": {
    "scrolled": false
   },
   "outputs": [
    {
     "ename": "ValueError",
     "evalue": "empty range for randrange() (1, 1, 0)",
     "output_type": "error",
     "traceback": [
      "\u001b[1;31m---------------------------------------------------------------------------\u001b[0m",
      "\u001b[1;31mValueError\u001b[0m                                Traceback (most recent call last)",
      "Cell \u001b[1;32mIn[21], line 3\u001b[0m\n\u001b[0;32m      1\u001b[0m data \u001b[38;5;241m=\u001b[39m np\u001b[38;5;241m.\u001b[39mload(\u001b[38;5;124m'\u001b[39m\u001b[38;5;124mmap.npy\u001b[39m\u001b[38;5;124m'\u001b[39m)\n\u001b[0;32m      2\u001b[0m ra \u001b[38;5;241m=\u001b[39m Road_Alignment(data,\u001b[38;5;241m7\u001b[39m)\n\u001b[1;32m----> 3\u001b[0m ra\u001b[38;5;241m.\u001b[39minitialize_population()\n",
      "File \u001b[1;32m<string>:4\u001b[0m, in \u001b[0;36minitialize_population\u001b[1;34m(self)\u001b[0m\n",
      "File \u001b[1;32m<string>:14\u001b[0m, in \u001b[0;36m_initialize_chromosome\u001b[1;34m(self)\u001b[0m\n",
      "File \u001b[1;32mC:\\ProgramData\\anaconda3\\Lib\\random.py:362\u001b[0m, in \u001b[0;36mRandom.randint\u001b[1;34m(self, a, b)\u001b[0m\n\u001b[0;32m    358\u001b[0m \u001b[38;5;28;01mdef\u001b[39;00m \u001b[38;5;21mrandint\u001b[39m(\u001b[38;5;28mself\u001b[39m, a, b):\n\u001b[0;32m    359\u001b[0m \u001b[38;5;250m    \u001b[39m\u001b[38;5;124;03m\"\"\"Return random integer in range [a, b], including both end points.\u001b[39;00m\n\u001b[0;32m    360\u001b[0m \u001b[38;5;124;03m    \"\"\"\u001b[39;00m\n\u001b[1;32m--> 362\u001b[0m     \u001b[38;5;28;01mreturn\u001b[39;00m \u001b[38;5;28mself\u001b[39m\u001b[38;5;241m.\u001b[39mrandrange(a, b\u001b[38;5;241m+\u001b[39m\u001b[38;5;241m1\u001b[39m)\n",
      "File \u001b[1;32mC:\\ProgramData\\anaconda3\\Lib\\random.py:345\u001b[0m, in \u001b[0;36mRandom.randrange\u001b[1;34m(self, start, stop, step)\u001b[0m\n\u001b[0;32m    343\u001b[0m     \u001b[38;5;28;01mif\u001b[39;00m width \u001b[38;5;241m>\u001b[39m \u001b[38;5;241m0\u001b[39m:\n\u001b[0;32m    344\u001b[0m         \u001b[38;5;28;01mreturn\u001b[39;00m istart \u001b[38;5;241m+\u001b[39m \u001b[38;5;28mself\u001b[39m\u001b[38;5;241m.\u001b[39m_randbelow(width)\n\u001b[1;32m--> 345\u001b[0m     \u001b[38;5;28;01mraise\u001b[39;00m \u001b[38;5;167;01mValueError\u001b[39;00m(\u001b[38;5;124m\"\u001b[39m\u001b[38;5;124mempty range for randrange() (\u001b[39m\u001b[38;5;132;01m%d\u001b[39;00m\u001b[38;5;124m, \u001b[39m\u001b[38;5;132;01m%d\u001b[39;00m\u001b[38;5;124m, \u001b[39m\u001b[38;5;132;01m%d\u001b[39;00m\u001b[38;5;124m)\u001b[39m\u001b[38;5;124m\"\u001b[39m \u001b[38;5;241m%\u001b[39m (istart, istop, width))\n\u001b[0;32m    347\u001b[0m \u001b[38;5;66;03m# Non-unit step argument supplied.\u001b[39;00m\n\u001b[0;32m    348\u001b[0m \u001b[38;5;28;01mif\u001b[39;00m istep \u001b[38;5;241m>\u001b[39m \u001b[38;5;241m0\u001b[39m:\n",
      "\u001b[1;31mValueError\u001b[0m: empty range for randrange() (1, 1, 0)"
     ]
    }
   ],
   "source": [
    "data = np.load('map.npy')\n",
    "ra = Road_Alignment(data,7)\n",
    "ra.initialize_population()"
   ]
  },
  {
   "cell_type": "code",
   "execution_count": null,
   "id": "944fc579",
   "metadata": {},
   "outputs": [],
   "source": [
    "max_generations = 300\n",
    "tournament_size = 5\n",
    "crossover_probability = 0.7\n",
    "mutation_probability = 0.1\n",
    "convergence_threshold = 1e-6\n",
    "no_improvement_threshold = 10\n",
    "elite_percentage = 0.1\n",
    "\n",
    "best_fitness_values = []\n",
    "count = 0\n",
    "for generation in range(max_generations):\n",
    "    \n",
    "    fitness_values = [ra.calculate_fitness(ind) for ind in ra.population]\n",
    "    best_fitness_values.append(min(fitness_values))\n",
    "    num_elite = int(len(ra.population) * elite_percentage)\n",
    "    offsprings = ra.generate_offspring(len(ra.population) - num_elite)\n",
    "    ra.elitism_survival_selection(fitness_values, offsprings, num_elite)\n",
    "    \n",
    "    # Check for termination conditions\n",
    "#     if ra.terminate(generation, max_generations, convergence_threshold, no_improvement_threshold, best_fitness_values):\n",
    "#         break\n",
    "    # Visualize the best individual in the current generation\n",
    "    \n",
    "best_individual = ra.extract_solution(ra.population, fitness_values)\n",
    "print(ra.calculate_fitness(best_individual))\n",
    "plt = ra.visualize_map()\n",
    "ra.visualize_chromosome(plt, best_individual)\n"
   ]
  },
  {
   "cell_type": "code",
   "execution_count": 25,
   "id": "f78464b2",
   "metadata": {},
   "outputs": [
    {
     "data": {
      "text/plain": [
       "[(0, 1),\n",
       " (1, 17),\n",
       " (2, 9),\n",
       " (3, 16),\n",
       " (4, 15),\n",
       " (5, 2),\n",
       " (6, 12),\n",
       " (7, 6),\n",
       " (8, 9),\n",
       " (9, 14),\n",
       " (10, 11),\n",
       " (11, 1),\n",
       " (12, 4),\n",
       " (13, 2),\n",
       " (14, 17),\n",
       " (15, 16),\n",
       " (16, 0),\n",
       " (17, 18),\n",
       " (18, 18),\n",
       " (19, 12),\n",
       " (20, 8),\n",
       " (21, 6),\n",
       " (22, 4),\n",
       " (23, 12),\n",
       " (24, 14),\n",
       " (25, 9),\n",
       " (26, 10),\n",
       " (27, 3),\n",
       " (28, 10),\n",
       " (29, 13),\n",
       " (30, 10),\n",
       " (31, 17),\n",
       " (32, 4),\n",
       " (33, 0),\n",
       " (34, 7),\n",
       " (35, 5),\n",
       " (36, 1),\n",
       " (37, 4),\n",
       " (38, 12),\n",
       " (39, 12),\n",
       " (40, 14),\n",
       " (41, 2),\n",
       " (42, 7),\n",
       " (43, 11),\n",
       " (44, 5),\n",
       " (45, 8),\n",
       " (46, 12),\n",
       " (47, 1),\n",
       " (48, 15),\n",
       " (49, 10),\n",
       " (50, 6),\n",
       " (51, 6),\n",
       " (52, 12),\n",
       " (53, 13),\n",
       " (54, 2),\n",
       " (55, 2),\n",
       " (56, 5),\n",
       " (57, 9),\n",
       " (58, 18),\n",
       " (59, 5)]"
      ]
     },
     "execution_count": 25,
     "metadata": {},
     "output_type": "execute_result"
    }
   ],
   "source": [
    "[(i,random.randint(0,19)) for i in range(0,60)]"
   ]
  },
  {
   "cell_type": "code",
   "execution_count": null,
   "id": "a979951a",
   "metadata": {},
   "outputs": [],
   "source": []
  }
 ],
 "metadata": {
  "kernelspec": {
   "display_name": "Python 3 (ipykernel)",
   "language": "python",
   "name": "python3"
  },
  "language_info": {
   "codemirror_mode": {
    "name": "ipython",
    "version": 3
   },
   "file_extension": ".py",
   "mimetype": "text/x-python",
   "name": "python",
   "nbconvert_exporter": "python",
   "pygments_lexer": "ipython3",
   "version": "3.11.5"
  }
 },
 "nbformat": 4,
 "nbformat_minor": 5
}
