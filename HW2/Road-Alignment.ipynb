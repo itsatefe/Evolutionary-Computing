{
 "cells": [
  {
   "cell_type": "code",
   "execution_count": 2,
   "id": "780756fb",
   "metadata": {},
   "outputs": [],
   "source": [
    "import numpy as np\n",
    "import jdc\n",
    "import random\n",
    "import matplotlib.pyplot as plt"
   ]
  },
  {
   "cell_type": "code",
   "execution_count": 3,
   "id": "80f90502",
   "metadata": {},
   "outputs": [],
   "source": [
    "class Road_Alignment:\n",
    "    def __init__(self,data,pop_size):\n",
    "        self.data = data\n",
    "        self.shape = data.shape\n",
    "        self.pop_size = pop_size\n",
    "        self.population = None"
   ]
  },
  {
   "cell_type": "code",
   "execution_count": 4,
   "id": "38f29bc0",
   "metadata": {},
   "outputs": [],
   "source": [
    "%%add_to Road_Alignment\n",
    "def initialize_population(self):\n",
    "    self.population = []\n",
    "    for i in range(self.pop_size):\n",
    "        chromosome = self._initialize_chromosome()\n",
    "        self.population.append(chromosome)"
   ]
  },
  {
   "cell_type": "code",
   "execution_count": 5,
   "id": "aa760095",
   "metadata": {},
   "outputs": [],
   "source": [
    "%%add_to Road_Alignment\n",
    "def _initialize_chromosome(self):\n",
    "    chromosome = [(-1, -1)] * (self.data.shape[1])\n",
    "    min_genes = 1\n",
    "    max_genes = self.data.shape[1]\n",
    "#     max_genes = 10\n",
    "    num_genes = random.randint(min_genes, max_genes)\n",
    "    genes = self._initialize_genes(num_genes)\n",
    "    chromosome[0] = genes[0] \n",
    "    chromosome[-1] = genes[-1] \n",
    "    last_index = 0\n",
    "    for idx, (i, j) in enumerate(genes):\n",
    "        if idx == 0 or idx == len(genes) -1:\n",
    "            continue\n",
    "        next_index = random.randint(last_index + 1, len(chromosome) - len(genes) + idx)\n",
    "        chromosome[next_index] = (i,j)\n",
    "        last_index = next_index\n",
    "    return chromosome"
   ]
  },
  {
   "cell_type": "code",
   "execution_count": 6,
   "id": "93260692",
   "metadata": {},
   "outputs": [],
   "source": [
    "%%add_to Road_Alignment\n",
    "def _initialize_genes(self, num_genes):\n",
    "    first_gene = (0, random.randint(0, self.data.shape[0] - 1))\n",
    "    distinct_tuples = []\n",
    "    distinct_tuples.append(first_gene)\n",
    "    count = 0\n",
    "    while len(distinct_tuples) < num_genes:\n",
    "        new_tuple = self._initialize_gene()\n",
    "        if new_tuple[0] == self.data.shape[1] - 1:\n",
    "            break\n",
    "        if new_tuple[0] > distinct_tuples[-1][0]:\n",
    "            distinct_tuples.append(new_tuple)\n",
    "    if distinct_tuples[-1] != (self.data.shape[1] - 1):\n",
    "        y_coordinate = random.randint(0,self.data.shape[0] - 1)\n",
    "        distinct_tuples.append((self.data.shape[1] - 1 ,y_coordinate))\n",
    "    return distinct_tuples"
   ]
  },
  {
   "cell_type": "code",
   "execution_count": 7,
   "id": "af5baa24",
   "metadata": {},
   "outputs": [],
   "source": [
    "%%add_to Road_Alignment\n",
    "def _initialize_gene(self):\n",
    "    gene = random.randint(0, 59), random.randint(0, 19)\n",
    "    return gene"
   ]
  },
  {
   "cell_type": "code",
   "execution_count": 8,
   "id": "331abd76",
   "metadata": {},
   "outputs": [],
   "source": [
    "%%add_to Road_Alignment\n",
    "def _find_coordinates(self,chromosome,value):\n",
    "    indices = np.where(chromosome == value)\n",
    "    x, y = indices[0][0], indices[1][0]\n",
    "    return x,y"
   ]
  },
  {
   "cell_type": "code",
   "execution_count": 9,
   "id": "802da8b6",
   "metadata": {},
   "outputs": [],
   "source": [
    "%%add_to Road_Alignment\n",
    "def chromosome_genes(self,chromosome):\n",
    "    genes = []\n",
    "    for i, (x,y) in enumerate(chromosome):\n",
    "        if (x,y) != (-1, -1):\n",
    "            genes.append((x,y))\n",
    "    return genes"
   ]
  },
  {
   "cell_type": "code",
   "execution_count": 10,
   "id": "137d312b",
   "metadata": {},
   "outputs": [],
   "source": [
    "%%add_to Road_Alignment\n",
    "def calculate_fitness(self,chromosome):\n",
    "    \n",
    "    genes = self.chromosome_genes(chromosome)\n",
    "    total_cost = 0.0 \n",
    "    for i in range(len(genes) - 1):\n",
    "        x1, y1 = genes[i]\n",
    "        x2, y2 = genes[i + 1]\n",
    "        if abs(x1 - x2) == 1 and abs(y1 - y2) <= 1:\n",
    "            road_cost = self.data[y1][x1]\n",
    "            total_cost += road_cost\n",
    "        else:\n",
    "            distance_cost = (x2 - x1)**2 + (y2 - y1)**2\n",
    "            total_cost += distance_cost\n",
    "\n",
    "    return total_cost"
   ]
  },
  {
   "cell_type": "code",
   "execution_count": 11,
   "id": "c6ebb5c8",
   "metadata": {},
   "outputs": [],
   "source": [
    "%%add_to Road_Alignment\n",
    "def parent_tournament_selection(self, tournament_size):\n",
    "    tournament_candidates = random.sample(self.population, tournament_size)\n",
    "    winner = min(tournament_candidates, key=lambda ind: self.calculate_fitness(ind))\n",
    "    tournament_candidates = random.sample(self.population, tournament_size)\n",
    "    runner_up = min(tournament_candidates, key=lambda ind: self.calculate_fitness(ind))\n",
    "    return winner, runner_up"
   ]
  },
  {
   "cell_type": "code",
   "execution_count": 12,
   "id": "b4d53e2e",
   "metadata": {},
   "outputs": [],
   "source": [
    "%%add_to Road_Alignment\n",
    "def uniform_crossover(self,parent1, parent2, crossover_probability=0.5):\n",
    "    offspring1 = np.zeros_like(parent1)\n",
    "    offspring2 = np.zeros_like(parent2)\n",
    "\n",
    "    for i in range(len(parent1)):\n",
    "        if np.random.rand() < crossover_probability:\n",
    "            offspring1[i] = parent1[i]\n",
    "            offspring2[i] = parent2[i]\n",
    "        else:\n",
    "            offspring1[i] = parent2[i]\n",
    "            offspring2[i] = parent1[i]\n",
    "\n",
    "    return offspring1, offspring2"
   ]
  },
  {
   "cell_type": "code",
   "execution_count": 13,
   "id": "a49640a0",
   "metadata": {},
   "outputs": [],
   "source": [
    "%%add_to Road_Alignment\n",
    "def mutate(self,chromosome,mutation_probability = 0.1):\n",
    "    mutated_chromosome = np.copy(chromosome)\n",
    "\n",
    "    for i in range(len(chromosome)):\n",
    "            \n",
    "        if np.random.rand() < mutation_probability:\n",
    "            x, y = mutated_chromosome[i]\n",
    "            if i == 0 or i == len(chromosome) - 1:\n",
    "                y = np.clip(y + np.random.randint(-2, 2), 0, self.data.shape[0] - 1)\n",
    "                mutated_chromosome[i] = (x, y)\n",
    "                continue\n",
    "            if np.random.rand() < 0.5:\n",
    "                x = np.clip(x + np.random.randint(-5, 5), 0, self.data.shape[1] - 1)\n",
    "                y = np.clip(y + np.random.randint(-2, 2), 0, self.data.shape[0] - 1)\n",
    "            else:\n",
    "                x = -1\n",
    "                y = -1\n",
    "            mutated_chromosome[i] = (x, y)\n",
    "\n",
    "    return list(mutated_chromosome)"
   ]
  },
  {
   "cell_type": "code",
   "execution_count": 14,
   "id": "5878fea4",
   "metadata": {},
   "outputs": [],
   "source": [
    "%%add_to Road_Alignment\n",
    "def terminate(self, generation, max_generations, convergence_threshold, no_improvement_threshold, best_fitness_values):\n",
    "    if generation >= max_generations:\n",
    "        return True\n",
    "    \n",
    "    if has_converged(best_fitness_values, convergence_threshold):\n",
    "        return True\n",
    "    \n",
    "    if no_improvement(best_fitness_values, no_improvement_threshold):\n",
    "        return True\n",
    "    \n",
    "    return False"
   ]
  },
  {
   "cell_type": "code",
   "execution_count": 15,
   "id": "af81bd92",
   "metadata": {},
   "outputs": [],
   "source": [
    "def has_converged(best_fitness_values, convergence_threshold):\n",
    "    if len(best_fitness_values) > 1:\n",
    "        last_best_fitness = best_fitness_values[-2]\n",
    "        current_best_fitness = best_fitness_values[-1]\n",
    "        \n",
    "        change_in_fitness = np.abs(current_best_fitness - last_best_fitness)\n",
    "        \n",
    "        return change_in_fitness < convergence_threshold\n",
    "    \n",
    "    return False"
   ]
  },
  {
   "cell_type": "code",
   "execution_count": 16,
   "id": "6f5cc66d",
   "metadata": {},
   "outputs": [],
   "source": [
    "def no_improvement(best_fitness_values, no_improvement_threshold):\n",
    "    if len(best_fitness_values) > no_improvement_threshold:\n",
    "        recent_best_fitness = best_fitness_values[-no_improvement_threshold:]\n",
    "        improvement_check = all(recent_best_fitness[i] >= recent_best_fitness[i + 1] for i in range(no_improvement_threshold - 1))   \n",
    "        return improvement_check\n",
    "    \n",
    "    return False\n",
    "    "
   ]
  },
  {
   "cell_type": "code",
   "execution_count": 17,
   "id": "e642ab1e",
   "metadata": {},
   "outputs": [],
   "source": [
    "%%add_to Road_Alignment\n",
    "def extract_solution(self,population, fitness_values):\n",
    "    best_index = np.argmin(fitness_values)\n",
    "    best_individual = population[best_index]\n",
    "    \n",
    "    return best_individual"
   ]
  },
  {
   "cell_type": "code",
   "execution_count": 18,
   "id": "eed6482b",
   "metadata": {},
   "outputs": [],
   "source": [
    "%%add_to Road_Alignment\n",
    "def visualize_map(self):\n",
    "    plt.imshow(self.data, cmap='YlGn', interpolation='nearest')\n",
    "    cbar = plt.colorbar()\n",
    "    plt.gca().invert_yaxis()\n",
    "    cbar.set_label('Roughness Level')\n",
    "    plt.title('Map Roughness')\n",
    "#     plt.show()\n",
    "    return plt"
   ]
  },
  {
   "cell_type": "code",
   "execution_count": 19,
   "id": "50ff3fd3",
   "metadata": {},
   "outputs": [],
   "source": [
    "%%add_to Road_Alignment\n",
    "def visualize_chromosome(self, plt,chromosome):\n",
    "    genes = self.chromosome_genes(chromosome)\n",
    "    for i in range(len(genes) - 1):\n",
    "        x1, y1 = genes[i]\n",
    "        x2, y2 = genes[i + 1]\n",
    "        if abs(x1 - x2) == 1 and abs(y1 - y2) <= 1:\n",
    "            plt.plot([x1, x2], [y1, y2], marker='o', linestyle='-',color='black')\n",
    "        else:\n",
    "            plt.plot([x1, x2], [y1, y2], marker='o', linestyle='-',color='red')\n",
    "\n",
    "    plt.title('chromosome')\n",
    "    plt.show()"
   ]
  },
  {
   "cell_type": "code",
   "execution_count": 20,
   "id": "6c2dd95b",
   "metadata": {
    "scrolled": false
   },
   "outputs": [],
   "source": [
    "data = np.load('map.npy')\n",
    "ra = Road_Alignment(data,100)\n",
    "ra.initialize_population()"
   ]
  },
  {
   "cell_type": "code",
   "execution_count": null,
   "id": "944fc579",
   "metadata": {},
   "outputs": [],
   "source": [
    "max_generations = 300\n",
    "tournament_size = 5\n",
    "crossover_probability = 0.7\n",
    "mutation_probability = 0.1\n",
    "convergence_threshold = 1e-6\n",
    "no_improvement_threshold = 10\n",
    "\n",
    "best_fitness_values = []\n",
    "count = 0\n",
    "for generation in range(max_generations):\n",
    "    # Evaluate fitness for each individual in the population\n",
    "    fitness_values = [ra.calculate_fitness(ind) for ind in ra.population]\n",
    "\n",
    "    # Record the best fitness value for visualization\n",
    "    best_fitness_values.append(min(fitness_values))\n",
    "\n",
    "    # Select parents using tournament selection\n",
    "    parent1, parent2 = ra.parent_tournament_selection(tournament_size)\n",
    "\n",
    "    # Apply crossover to create offspring\n",
    "    offspring1, offspring2 = ra.uniform_crossover(parent1, parent2, crossover_probability)\n",
    "\n",
    "    # Apply mutation to the offspring\n",
    "    mutated_offspring1 = ra.mutate(offspring1, mutation_probability)\n",
    "    mutated_offspring2 = ra.mutate(offspring2, mutation_probability)\n",
    "\n",
    "    # Replace the two worst individuals in the population with the mutated offspring\n",
    "    ra.population[fitness_values.index(max(fitness_values))] = mutated_offspring1\n",
    "    ra.population[fitness_values.index(max(fitness_values))] = mutated_offspring2\n",
    "\n",
    "\n",
    "    # Check for termination conditions\n",
    "#     if ra.terminate(generation, max_generations, convergence_threshold, no_improvement_threshold, best_fitness_values):\n",
    "#         break\n",
    "    # Visualize the best individual in the current generation\n",
    "    \n",
    "best_individual = ra.extract_solution(ra.population, fitness_values)\n",
    "print(ra.calculate_fitness(best_individual))\n",
    "plt = ra.visualize_map()\n",
    "ra.visualize_chromosome(plt, best_individual)\n"
   ]
  },
  {
   "cell_type": "code",
   "execution_count": 446,
   "id": "9c52d4c8",
   "metadata": {},
   "outputs": [
    {
     "data": {
      "text/plain": [
       "19"
      ]
     },
     "execution_count": 446,
     "metadata": {},
     "output_type": "execute_result"
    }
   ],
   "source": [
    "data.shape[0] - 1"
   ]
  },
  {
   "cell_type": "code",
   "execution_count": null,
   "id": "b8362835",
   "metadata": {},
   "outputs": [],
   "source": []
  }
 ],
 "metadata": {
  "kernelspec": {
   "display_name": "Python 3 (ipykernel)",
   "language": "python",
   "name": "python3"
  },
  "language_info": {
   "codemirror_mode": {
    "name": "ipython",
    "version": 3
   },
   "file_extension": ".py",
   "mimetype": "text/x-python",
   "name": "python",
   "nbconvert_exporter": "python",
   "pygments_lexer": "ipython3",
   "version": "3.11.5"
  }
 },
 "nbformat": 4,
 "nbformat_minor": 5
}
