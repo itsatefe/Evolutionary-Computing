{
 "cells": [
  {
   "cell_type": "code",
   "execution_count": 1,
   "id": "780756fb",
   "metadata": {},
   "outputs": [],
   "source": [
    "import numpy as np\n",
    "import jdc\n",
    "import random\n",
    "import matplotlib.pyplot as plt\n",
    "import math"
   ]
  },
  {
   "cell_type": "code",
   "execution_count": 2,
   "id": "80f90502",
   "metadata": {},
   "outputs": [],
   "source": [
    "class Road_Alignment:\n",
    "    def __init__(self, data, pop_size, max_generations=100, tournament_size=5, crossover_probability=0.5, mutation_probability=0.1, elite_percentage=0.4, convergence_threshold=1e-15, no_improvement_threshold=10):\n",
    "        self.data = data\n",
    "        self.shape = data.shape\n",
    "        self.pop_size = pop_size\n",
    "        self.population = None\n",
    "        self.tournament_size = tournament_size\n",
    "        self.crossover_probability = crossover_probability\n",
    "        self.mutation_probability = mutation_probability\n",
    "        self.convergence_threshold = convergence_threshold\n",
    "        self.no_improvement_threshold = no_improvement_threshold\n",
    "        self.elite_percentage = elite_percentage\n",
    "        self.max_generations = max_generations"
   ]
  },
  {
   "cell_type": "code",
   "execution_count": 3,
   "id": "38f29bc0",
   "metadata": {},
   "outputs": [],
   "source": [
    "%%add_to Road_Alignment\n",
    "def initialize_population(self):\n",
    "    self.population = []\n",
    "    for i in range(self.pop_size):\n",
    "        chromosome = [(i,random.randint(0,self.data.shape[0] - 1)) for i in range(0,self.data.shape[1])]\n",
    "        self.population.append(chromosome)"
   ]
  },
  {
   "cell_type": "code",
   "execution_count": 4,
   "id": "137d312b",
   "metadata": {},
   "outputs": [],
   "source": [
    "%%add_to Road_Alignment\n",
    "def calculate_fitness(self,chromosome):\n",
    "    total_cost = 0.0 \n",
    "    for i in range(len(chromosome) - 1):\n",
    "        x1, y1 = chromosome[i]\n",
    "        x2, y2 = chromosome[i + 1]\n",
    "        if abs(x1 - x2) == 1 and abs(y1 - y2) <= 1:\n",
    "            road_cost = self.data[y1][x1]\n",
    "            total_cost += road_cost\n",
    "        else:\n",
    "            distance_cost = (x2 - x1)**2 + (y2 - y1)**2\n",
    "            total_cost += distance_cost\n",
    "\n",
    "    return total_cost"
   ]
  },
  {
   "cell_type": "code",
   "execution_count": 5,
   "id": "c6ebb5c8",
   "metadata": {},
   "outputs": [],
   "source": [
    "%%add_to Road_Alignment\n",
    "def parent_tournament_selection(self):\n",
    "    tournament_candidates = random.sample(self.population, self.tournament_size)\n",
    "    winner = min(tournament_candidates, key=lambda ind: self.calculate_fitness(ind))\n",
    "    tournament_candidates = random.sample(self.population, self.tournament_size)\n",
    "    runner_up = min(tournament_candidates, key=lambda ind: self.calculate_fitness(ind))\n",
    "    return winner, runner_up"
   ]
  },
  {
   "cell_type": "code",
   "execution_count": 6,
   "id": "b4d53e2e",
   "metadata": {},
   "outputs": [],
   "source": [
    "%%add_to Road_Alignment\n",
    "def uniform_crossover(self,parent1, parent2):\n",
    "    offspring1 = np.zeros_like(parent1)\n",
    "    offspring2 = np.zeros_like(parent2)\n",
    "    for i in range(len(parent1)):\n",
    "        if np.random.rand() < self.crossover_probability:\n",
    "            offspring1[i] = parent1[i]\n",
    "            offspring2[i] = parent2[i]\n",
    "        else:\n",
    "            offspring1[i] = parent2[i]\n",
    "            offspring2[i] = parent1[i]\n",
    "    return offspring1, offspring2"
   ]
  },
  {
   "cell_type": "code",
   "execution_count": 7,
   "id": "a49640a0",
   "metadata": {},
   "outputs": [],
   "source": [
    "%%add_to Road_Alignment\n",
    "def mutate(self,chromosome):\n",
    "    mutated_chromosome = np.copy(chromosome)\n",
    "\n",
    "    for i in range(len(chromosome)):\n",
    "        if np.random.rand() < self.mutation_probability:\n",
    "            x, y = mutated_chromosome[i]\n",
    "            y = np.clip(y + np.random.randint(-2, 2), 0, self.data.shape[0] - 1)\n",
    "            mutated_chromosome[i] = (x, y)\n",
    "    offspring = list(mutated_chromosome)\n",
    "    return offspring"
   ]
  },
  {
   "cell_type": "code",
   "execution_count": 8,
   "id": "25233134",
   "metadata": {},
   "outputs": [],
   "source": [
    "%%add_to Road_Alignment\n",
    "def generate_offspring(self, num_offspring):\n",
    "    offsprings = []\n",
    "    while len(offsprings) < num_offspring:\n",
    "        parent1 = self.parent_tournament_selection()[0]\n",
    "        parent2 = self.parent_tournament_selection()[1]\n",
    "        offspring1, offspring2 = self.uniform_crossover(parent1, parent2)\n",
    "        \n",
    "        offspring1 = self.mutate(offspring1)\n",
    "        offspring2 = self.mutate(offspring2)\n",
    "        offsprings.extend([offspring1, offspring2])\n",
    "    return offsprings[:num_offspring]"
   ]
  },
  {
   "cell_type": "code",
   "execution_count": 9,
   "id": "3cd63d85",
   "metadata": {},
   "outputs": [],
   "source": [
    "%%add_to Road_Alignment\n",
    "def elitism_survival_selection(self, fitness_values, offsprings, num_elite):\n",
    "    sorted_indices = np.argsort(fitness_values)\n",
    "    elite_indices = sorted_indices[:num_elite]\n",
    "    elite_individuals = [self.population[i] for i in elite_indices]\n",
    "    new_generation = elite_individuals + offsprings\n",
    "    return new_generation"
   ]
  },
  {
   "cell_type": "code",
   "execution_count": 10,
   "id": "5878fea4",
   "metadata": {},
   "outputs": [],
   "source": [
    "%%add_to Road_Alignment\n",
    "def terminate(self,best_fitness_values):\n",
    "    if self.has_converged(best_fitness_values):\n",
    "        return True\n",
    "    if self.no_improvement(best_fitness_values):\n",
    "        return True\n",
    "    return False"
   ]
  },
  {
   "cell_type": "code",
   "execution_count": 11,
   "id": "af81bd92",
   "metadata": {},
   "outputs": [],
   "source": [
    "%%add_to Road_Alignment\n",
    "def has_converged(self,best_fitness_values):\n",
    "    if len(best_fitness_values) > 1:\n",
    "        last_best_fitness = best_fitness_values[-2]\n",
    "        current_best_fitness = best_fitness_values[-1]\n",
    "        change_in_fitness = np.abs(current_best_fitness - last_best_fitness)\n",
    "        print(\"has_converged:\", change_in_fitness < self.convergence_threshold)\n",
    "        return change_in_fitness < self.convergence_threshold\n",
    "    return False"
   ]
  },
  {
   "cell_type": "code",
   "execution_count": 12,
   "id": "6f5cc66d",
   "metadata": {},
   "outputs": [],
   "source": [
    "%%add_to Road_Alignment\n",
    "def no_improvement(self,best_fitness_values):\n",
    "    if len(best_fitness_values) > self.no_improvement_threshold:\n",
    "        recent_best_fitness = best_fitness_values[-self.no_improvement_threshold:]\n",
    "        improvement_check = all(recent_best_fitness[i] >= recent_best_fitness[i + 1] for i in range(self.no_improvement_threshold - 1))   \n",
    "        print(\"no_improvement\",improvement_check)\n",
    "        \n",
    "        return improvement_check\n",
    "    return False"
   ]
  },
  {
   "cell_type": "code",
   "execution_count": 13,
   "id": "e642ab1e",
   "metadata": {},
   "outputs": [],
   "source": [
    "%%add_to Road_Alignment\n",
    "def extract_solution(self,population, fitness_values):\n",
    "    best_index = np.argmin(fitness_values)\n",
    "    best_individual = population[best_index]\n",
    "    return best_individual"
   ]
  },
  {
   "cell_type": "code",
   "execution_count": 14,
   "id": "eed6482b",
   "metadata": {},
   "outputs": [],
   "source": [
    "%%add_to Road_Alignment\n",
    "def visualize_map(self):\n",
    "    plt.imshow(self.data, cmap='YlGn', interpolation='nearest')\n",
    "    cbar = plt.colorbar()\n",
    "    plt.gca().invert_yaxis()\n",
    "    cbar.set_label('Roughness Level')\n",
    "    plt.title('Map Roughness')\n",
    "#     plt.show()\n",
    "    return plt"
   ]
  },
  {
   "cell_type": "code",
   "execution_count": 15,
   "id": "50ff3fd3",
   "metadata": {},
   "outputs": [],
   "source": [
    "%%add_to Road_Alignment\n",
    "def visualize_chromosome(self, plt,chromosome):\n",
    "    for i in range(len(chromosome) - 1):\n",
    "        x1, y1 = chromosome[i]\n",
    "        x2, y2 = chromosome[i + 1]\n",
    "        if abs(x1 - x2) == 1 and abs(y1 - y2) <= 1:\n",
    "            plt.plot([x1, x2], [y1, y2], linestyle='-',color='black')\n",
    "        else:\n",
    "            plt.plot([x1, x2], [y1, y2], linestyle='-',color='red')\n",
    "    plt.title('chromosome')\n",
    "    plt.show()"
   ]
  },
  {
   "cell_type": "code",
   "execution_count": 21,
   "id": "6c2dd95b",
   "metadata": {
    "scrolled": false
   },
   "outputs": [],
   "source": [
    "data = np.load('map.npy')\n",
    "ra = Road_Alignment(data, pop_size=500, max_generations=120, tournament_size=5, crossover_probability=0.6, mutation_probability=0.1, elite_percentage=0.4, convergence_threshold=1e-15, no_improvement_threshold=10)  \n",
    "ra.initialize_population()"
   ]
  },
  {
   "cell_type": "code",
   "execution_count": 22,
   "id": "e26c898a",
   "metadata": {},
   "outputs": [],
   "source": [
    "average_fitness_values = []\n",
    "best_fitness_values = []\n",
    "for generation in range(ra.max_generations):\n",
    "    fitness_values = [ra.calculate_fitness(ind) for ind in ra.population]\n",
    "    best_fitness_values.append(min(fitness_values))\n",
    "    average_fitness_values.append(np.mean(fitness_values))\n",
    "    num_elite = int(len(ra.population) * ra.elite_percentage)\n",
    "    offsprings = ra.generate_offspring(len(ra.population) - num_elite)\n",
    "    ra.population = ra.elitism_survival_selection(fitness_values, offsprings, num_elite)\n",
    "#     if ra.terminate(average_fitness_values):\n",
    "#         print(generation)\n",
    "#         break"
   ]
  },
  {
   "cell_type": "code",
   "execution_count": 23,
   "id": "69091c3c",
   "metadata": {},
   "outputs": [
    {
     "name": "stdout",
     "output_type": "stream",
     "text": [
      "63.0\n"
     ]
    },
    {
     "data": {
      "image/png": "[encoded data removed]",
      "text/plain": [
       "<Figure size 640x480 with 2 Axes>"
      ]
     },
     "metadata": {},
     "output_type": "display_data"
    }
   ],
   "source": [
    "best_individual = ra.extract_solution(ra.population, fitness_values)\n",
    "print(ra.calculate_fitness(best_individual))\n",
    "plt = ra.visualize_map()\n",
    "ra.visualize_chromosome(plt, best_individual)"
   ]
  },
  {
   "cell_type": "code",
   "execution_count": 24,
   "id": "944fc579",
   "metadata": {},
   "outputs": [
    {
     "data": {
      "image/png": "[encoded data removed]",
      "text/plain": [
       "<Figure size 640x480 with 1 Axes>"
      ]
     },
     "metadata": {},
     "output_type": "display_data"
    }
   ],
   "source": [
    "plt.figure()\n",
    "plt.plot(range(1, ra.max_generations + 1), average_fitness_values, label='Average Fitness', color='blue')\n",
    "plt.plot(range(1, ra.max_generations + 1), best_fitness_values, label='best Fitness', color='green')\n",
    "plt.xlabel('Generation')\n",
    "plt.ylabel('Fitness')\n",
    "plt.title('Per Generation')\n",
    "plt.legend()\n",
    "plt.show()"
   ]
  },
  {
   "cell_type": "code",
   "execution_count": null,
   "id": "49278e09",
   "metadata": {},
   "outputs": [],
   "source": []
  }
 ],
 "metadata": {
  "kernelspec": {
   "display_name": "Python 3 (ipykernel)",
   "language": "python",
   "name": "python3"
  },
  "language_info": {
   "codemirror_mode": {
    "name": "ipython",
    "version": 3
   },
   "file_extension": ".py",
   "mimetype": "text/x-python",
   "name": "python",
   "nbconvert_exporter": "python",
   "pygments_lexer": "ipython3",
   "version": "3.11.5"
  }
 },
 "nbformat": 4,
 "nbformat_minor": 5
}
