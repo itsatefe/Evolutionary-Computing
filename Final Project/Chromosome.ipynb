{
 "cells": [
  {
   "cell_type": "code",
   "execution_count": null,
   "id": "1764a7db",
   "metadata": {},
   "outputs": [],
   "source": [
    "import numpy as np\n",
    "\n",
    "class Chromosome:\n",
    "    def __init__(self, values, objectives=None):\n",
    "        self.values = values\n",
    "        self.objectives = objectives or []\n",
    "        self.domination_count = 0\n",
    "        self.dominated_solutions = set()\n",
    "        self.rank = None\n",
    "        self.crowding_distance = 0\n",
    "        self.crossover_type = None\n",
    "        Self.Subspace = None\n",
    "\n",
    "    def dominate(self, other):\n",
    "        return all(x <= y for x, y in zip(self.objectives, other.objectives)) and any(x < y for x, y in zip(self.objectives, other.objectives))\n"
   ]
  }
 ],
 "metadata": {
  "kernelspec": {
   "display_name": "Python 3 (ipykernel)",
   "language": "python",
   "name": "python3"
  },
  "language_info": {
   "codemirror_mode": {
    "name": "ipython",
    "version": 3
   },
   "file_extension": ".py",
   "mimetype": "text/x-python",
   "name": "python",
   "nbconvert_exporter": "python",
   "pygments_lexer": "ipython3",
   "version": "3.11.5"
  }
 },
 "nbformat": 4,
 "nbformat_minor": 5
}
