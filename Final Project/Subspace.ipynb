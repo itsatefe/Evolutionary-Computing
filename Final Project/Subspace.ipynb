{
 "cells": [
  {
   "cell_type": "code",
   "execution_count": null,
   "id": "aee94765",
   "metadata": {},
   "outputs": [],
   "source": [
    "import numpy as np\n",
    "\n",
    "class Subspace:\n",
    "    def __init__(self, coordinates, ideal_point, grid_intervals):\n",
    "        self.coordinates = coordinates  # Coordinates of the subspace in the grid\n",
    "        self.ideal_point = ideal_point  # Ideal point in the objective space\n",
    "        self.grid_intervals = grid_intervals  # Grid intervals in each objective dimension\n",
    "        self.solutions = []  # List to store solutions that belong to this subspace\n",
    "\n",
    "    def calculate_scp(self):\n",
    "        z_scp = self.ideal_point + self.grid_intervals * self.coordinates\n",
    "        return z_scp\n",
    "\n",
    "    def calculate_sdv(self, epsilon=1e-6):\n",
    "        sdv = 1.0 / (self.coordinates + epsilon)\n",
    "        return sdv\n",
    "\n",
    "    def calculate_sws(self, x, epsilon=1e-6):\n",
    "        sdv = self.calculate_sdv(epsilon)\n",
    "        z_scp = self.calculate_scp()\n",
    "        sws_value = np.sum(sdv * (x - z_scp))\n",
    "        return sws_value\n",
    "\n",
    "    def subspace_dominance(self, other):\n",
    "        dominates = False\n",
    "        for a, b in zip(self.coordinates, other.coordinates):\n",
    "            if a > b:\n",
    "                return False\n",
    "            if a < b:\n",
    "                dominates = True\n",
    "        return dominates\n",
    "\n",
    "    def strong_subspace_dominance(self, other):\n",
    "        return all(a < b for a, b in zip(self.coordinates, other.coordinates))\n",
    "\n",
    "    def weak_subspace_dominance(self, other):\n",
    "        equal_in_at_least_one_dimension = False\n",
    "        for a, b in zip(self.coordinates, other.coordinates):\n",
    "            if a > b:\n",
    "                return False\n",
    "            if a == b:\n",
    "                equal_in_at_least_one_dimension = True\n",
    "        return equal_in_at_least_one_dimension\n",
    "    \n",
    "    def select_representative(self):\n",
    "        if not self.solutions:\n",
    "            return None\n",
    "        solutions_sws = [self.calculate_sws(x) for x in self.solutions]\n",
    "        min_index = np.argmin(solutions_sws)\n",
    "        return self.solutions[min_index]\n"
   ]
  }
 ],
 "metadata": {
  "kernelspec": {
   "display_name": "Python 3 (ipykernel)",
   "language": "python",
   "name": "python3"
  },
  "language_info": {
   "codemirror_mode": {
    "name": "ipython",
    "version": 3
   },
   "file_extension": ".py",
   "mimetype": "text/x-python",
   "name": "python",
   "nbconvert_exporter": "python",
   "pygments_lexer": "ipython3",
   "version": "3.11.5"
  }
 },
 "nbformat": 4,
 "nbformat_minor": 5
}
