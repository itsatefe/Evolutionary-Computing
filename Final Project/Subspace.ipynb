{
 "cells": [
  {
   "cell_type": "code",
   "execution_count": null,
   "id": "aee94765",
   "metadata": {},
   "outputs": [],
   "source": [
    "class Subspace:\n",
    "    def __init__(self, coordinates):\n",
    "        self.coordinates = coordinates\n",
    "        self.solutions = []  # List to store solutions that belong to this subspace\n",
    "\n",
    "    def subspace_dominance(self, other):\n",
    "        \"\"\" Check if this subspace dominates the other subspace (SD). \"\"\"\n",
    "        dominates = False\n",
    "        for a, b in zip(self.coordinates, other.coordinates):\n",
    "            if a > b:\n",
    "                return False\n",
    "            if a < b:\n",
    "                dominates = True\n",
    "        return dominates\n",
    "\n",
    "    def strong_subspace_dominance(self, other):\n",
    "        \"\"\" Check if this subspace strongly dominates the other subspace (SSD). \"\"\"\n",
    "        return all(a < b for a, b in zip(self.coordinates, other.coordinates))\n",
    "\n",
    "    def weak_subspace_dominance(self, other):\n",
    "        \"\"\" Check if this subspace weakly dominates the other subspace (WSD). \"\"\"\n",
    "        equal_in_at_least_one_dimension = False\n",
    "        for a, b in zip(self.coordinates, other.coordinates):\n",
    "            if a > b:\n",
    "                return False\n",
    "            if a == b:\n",
    "                equal_in_at_least_one_dimension = True\n",
    "        return equal_in_at_least_one_dimension"
   ]
  }
 ],
 "metadata": {
  "kernelspec": {
   "display_name": "Python 3 (ipykernel)",
   "language": "python",
   "name": "python3"
  },
  "language_info": {
   "codemirror_mode": {
    "name": "ipython",
    "version": 3
   },
   "file_extension": ".py",
   "mimetype": "text/x-python",
   "name": "python",
   "nbconvert_exporter": "python",
   "pygments_lexer": "ipython3",
   "version": "3.11.5"
  }
 },
 "nbformat": 4,
 "nbformat_minor": 5
}
