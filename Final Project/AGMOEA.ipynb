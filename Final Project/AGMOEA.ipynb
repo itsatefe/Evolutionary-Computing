{
 "cells": [
  {
   "cell_type": "code",
   "execution_count": 14,
   "id": "fed366f4",
   "metadata": {
    "scrolled": false
   },
   "outputs": [
    {
     "data": {
      "text/plain": [
       "array([[1, 1],\n",
       "       [0, 0],\n",
       "       [1, 1],\n",
       "       [1, 0]])"
      ]
     },
     "execution_count": 14,
     "metadata": {},
     "output_type": "execute_result"
    }
   ],
   "source": [
    "import numpy as np\n",
    "\n",
    "ideal_point = np.array([0, 0])  \n",
    "nadir_point = np.array([10, 10])\n",
    "\n",
    "divisions_per_dim = 2  # This means we will have 2x2 grid in the objective space since we have 2 objective\n",
    "grid_intervals = (nadir_point - ideal_point) / divisions_per_dim # D = (d1,d2)\n",
    "solutions = np.array([ #objective of solutions\n",
    "    [1, 2],\n",
    "    [9, 8],\n",
    "    [5, 5],\n",
    "    [3, 9]\n",
    "])\n",
    "\n",
    "def assign_solutions_to_subspaces(solutions, ideal_point, grid_intervals): #Grid coordinates\n",
    "    # Calculate the relative positions of solutions from the ideal point\n",
    "    relative_positions = solutions - ideal_point\n",
    "    # Calculate the subspace indices for each solution\n",
    "    subspace_indices = np.floor(relative_positions / grid_intervals).astype(int)\n",
    "    return subspace_indices\n",
    "\n",
    "# Assign each solution to a subspace\n",
    "subspace_indices = assign_solutions_to_subspaces(solutions, ideal_point, grid_intervals)\n",
    "\n",
    "subspace_indices\n"
   ]
  },
  {
   "cell_type": "code",
   "execution_count": null,
   "id": "eb0a0e6a",
   "metadata": {},
   "outputs": [],
   "source": []
  }
 ],
 "metadata": {
  "kernelspec": {
   "display_name": "Python 3 (ipykernel)",
   "language": "python",
   "name": "python3"
  },
  "language_info": {
   "codemirror_mode": {
    "name": "ipython",
    "version": 3
   },
   "file_extension": ".py",
   "mimetype": "text/x-python",
   "name": "python",
   "nbconvert_exporter": "python",
   "pygments_lexer": "ipython3",
   "version": "3.11.5"
  }
 },
 "nbformat": 4,
 "nbformat_minor": 5
}
