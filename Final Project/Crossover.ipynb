{
 "cells": [
  {
   "cell_type": "code",
   "execution_count": 2,
   "id": "08c73c30",
   "metadata": {},
   "outputs": [],
   "source": [
    "def sbx_crossover(parent1, parent2, eta=30):\n",
    "    u = np.random.rand(len(parent1))\n",
    "    beta = np.empty_like(u)\n",
    "    beta[u <= 0.5] = (2 * u[u <= 0.5]) ** (1 / (eta + 1))\n",
    "    beta[u > 0.5] = (2 * (1 - u[u > 0.5])) ** (-1 / (eta + 1))\n",
    "    offspring1 = 0.5 * ((1 + beta) * parent1 + (1 - beta) * parent2)\n",
    "    offspring2 = 0.5 * ((1 - beta) * parent1 + (1 + beta) * parent2)\n",
    "    return offspring1, offspring2"
   ]
  },
  {
   "cell_type": "code",
   "execution_count": 3,
   "id": "5ff55616",
   "metadata": {},
   "outputs": [],
   "source": [
    "def pcx_crossover(parent1, parent2, sigma=0.1, eta=0.1):\n",
    "    parent_mean = (parent1 + parent2) / 2\n",
    "    offspring = parent_mean + sigma * np.random.randn() + eta * (parent1 - parent_mean)\n",
    "    return offspring"
   ]
  },
  {
   "cell_type": "code",
   "execution_count": 4,
   "id": "f1382345",
   "metadata": {},
   "outputs": [],
   "source": [
    "def spx_crossover(parents, epsilon=0.1):\n",
    "    centroid = np.mean(parents, axis=0)\n",
    "    offsprings = []\n",
    "    for parent in parents:\n",
    "        offspring = centroid + (parent - centroid) * (1 + epsilon)\n",
    "        offsprings.append(offspring)\n",
    "    return np.array(offsprings)"
   ]
  },
  {
   "cell_type": "code",
   "execution_count": null,
   "id": "456819fa",
   "metadata": {},
   "outputs": [],
   "source": [
    "def spx_crossover(parents, epsilon=1.0):\n",
    "    m, n = parents.shape\n",
    "    center = np.mean(parents, axis=0)\n",
    "    expanded_simplex = (1 + epsilon) * (parents - center)\n",
    "    offspring = np.empty_like(parents)\n",
    "    for i in range(m):\n",
    "        random_weights = np.random.dirichlet(np.ones(m), size=1)\n",
    "        offspring[i] = center + np.dot(random_weights, expanded_simplex)\n",
    "    return offspring"
   ]
  },
  {
   "cell_type": "code",
   "execution_count": 5,
   "id": "f852eee9",
   "metadata": {},
   "outputs": [],
   "source": [
    "def blx_alpha_crossover(parent1, parent2, alpha=0.5):\n",
    "    d = np.abs(parent1 - parent2)\n",
    "    min_vals = np.minimum(parent1, parent2) - alpha * d\n",
    "    max_vals = np.maximum(parent1, parent2) + alpha * d\n",
    "    offspring = min_vals + np.random.rand(len(parent1)) * (max_vals - min_vals)\n",
    "    return offspring"
   ]
  },
  {
   "cell_type": "code",
   "execution_count": 6,
   "id": "3b4f81f5",
   "metadata": {},
   "outputs": [],
   "source": [
    "def de_rand_1_crossover(target, a, b, c, cr=0.5):\n",
    "    size = len(target)\n",
    "    jrand = np.random.randint(size)\n",
    "    offspring = np.array(target)\n",
    "    for j in range(size):\n",
    "        if np.random.rand() < cr or j == jrand:\n",
    "            offspring[j] = a[j] + 0.5 * (b[j] - c[j])\n",
    "    return offspring"
   ]
  }
 ],
 "metadata": {
  "kernelspec": {
   "display_name": "Python 3 (ipykernel)",
   "language": "python",
   "name": "python3"
  },
  "language_info": {
   "codemirror_mode": {
    "name": "ipython",
    "version": 3
   },
   "file_extension": ".py",
   "mimetype": "text/x-python",
   "name": "python",
   "nbconvert_exporter": "python",
   "pygments_lexer": "ipython3",
   "version": "3.11.5"
  }
 },
 "nbformat": 4,
 "nbformat_minor": 5
}
