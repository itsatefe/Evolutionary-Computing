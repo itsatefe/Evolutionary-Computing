{
 "cells": [
  {
   "cell_type": "code",
   "execution_count": 48,
   "id": "7864470b",
   "metadata": {},
   "outputs": [],
   "source": [
    "import numpy as np\n",
    "from pymoo.problems import *"
   ]
  },
  {
   "cell_type": "code",
   "execution_count": 7,
   "id": "a5f1f38d",
   "metadata": {},
   "outputs": [],
   "source": [
    "x = np.random.rand(7)"
   ]
  },
  {
   "cell_type": "code",
   "execution_count": 10,
   "id": "ed871699",
   "metadata": {},
   "outputs": [
    {
     "name": "stdout",
     "output_type": "stream",
     "text": [
      "Objective values: [ 12.49971721 152.30969154 156.87366909]\n"
     ]
    }
   ],
   "source": [
    "def evaluate_DTLZ1(x, M=3):\n",
    "    n = len(x)\n",
    "    g = 100 * (n - M + 1 + sum((x[M-1:] - 0.5)**2 - np.cos(20 * np.pi * (x[M-1:] - 0.5))))\n",
    "    f = np.zeros(M)\n",
    "    for i in range(M):\n",
    "        f[i] = 0.5 * (1 + g)\n",
    "        for j in range(M - i - 1):\n",
    "            f[i] *= x[j]\n",
    "        if i != 0:\n",
    "            f[i] *= (1 - x[M - i - 1])\n",
    "    return f\n",
    "\n",
    "M = 3\n",
    "objective_values = evaluate_DTLZ1(x, M)\n",
    "print(\"Objective values:\", objective_values)"
   ]
  },
  {
   "cell_type": "code",
   "execution_count": 12,
   "id": "04804bc1",
   "metadata": {},
   "outputs": [
    {
     "name": "stdout",
     "output_type": "stream",
     "text": [
      "Objective values: [0.84097419 0.10066586 0.88045138]\n"
     ]
    }
   ],
   "source": [
    "def evaluate_DTLZ2(x, M=3):\n",
    "    n = len(x)\n",
    "    k = n - M + 1\n",
    "    g = sum((x[M-1:] - 0.5)**2)\n",
    "    f = np.ones(M) * (1 + g)\n",
    "    for i in range(M):\n",
    "        for j in range(M - i - 1):\n",
    "            f[i] *= np.cos(x[j] * np.pi / 2)\n",
    "        if i != 0:\n",
    "            f[i] *= np.sin(x[M - i - 1] * np.pi / 2)\n",
    "    return f\n",
    "\n",
    "M = 3\n",
    "objective_values = evaluate_DTLZ2(x, M)\n",
    "print(\"Objective values:\", objective_values)"
   ]
  },
  {
   "cell_type": "code",
   "execution_count": 13,
   "id": "03b57f33",
   "metadata": {},
   "outputs": [
    {
     "name": "stdout",
     "output_type": "stream",
     "text": [
      "Objective values: [442.86782488  53.01193792 463.65702239]\n"
     ]
    }
   ],
   "source": [
    "def evaluate_DTLZ3(x, M=3):\n",
    "    n = len(x)\n",
    "    k = n - M + 1\n",
    "    g = 100 * (k + sum((x[M-1:] - 0.5)**2 - np.cos(20 * np.pi * (x[M-1:] - 0.5))))\n",
    "    f = np.ones(M) * (1 + g)\n",
    "    for i in range(M):\n",
    "        for j in range(M - i - 1):\n",
    "            f[i] *= np.cos(x[j] * np.pi / 2)\n",
    "        if i != 0:\n",
    "            f[i] *= np.sin(x[M - i - 1] * np.pi / 2)\n",
    "    return f\n",
    "\n",
    "M = 3\n",
    "objective_values = evaluate_DTLZ3(x, M)\n",
    "print(\"Objective values:\", objective_values)"
   ]
  },
  {
   "cell_type": "code",
   "execution_count": 15,
   "id": "1a1b68fd",
   "metadata": {},
   "outputs": [
    {
     "name": "stdout",
     "output_type": "stream",
     "text": [
      "Objective values: [1.22170611e+000 1.88323830e-112 1.73167034e-029]\n"
     ]
    }
   ],
   "source": [
    "def evaluate_DTLZ4(x, M=3, alpha=100):\n",
    "    n = len(x)\n",
    "    k = n - M + 1\n",
    "    g = sum((x[M-1:] - 0.5)**2)\n",
    "    f = np.ones(M) * (1 + g)\n",
    "    for i in range(M):\n",
    "        for j in range(M - i - 1):\n",
    "            f[i] *= np.cos((x[j]**alpha) * np.pi / 2)\n",
    "        if i != 0:\n",
    "            f[i] *= np.sin((x[M - i - 1]**alpha) * np.pi / 2)\n",
    "    return f\n",
    "M = 3\n",
    "objective_values = evaluate_DTLZ4(x, M)\n",
    "print(\"Objective values:\", objective_values)"
   ]
  },
  {
   "cell_type": "code",
   "execution_count": 40,
   "id": "2e04656f",
   "metadata": {},
   "outputs": [
    {
     "name": "stdout",
     "output_type": "stream",
     "text": [
      "Objective values: [0.66676761 0.52229508 0.88045138]\n"
     ]
    }
   ],
   "source": [
    "\n",
    "def evaluate_DTLZ5(x, M=3):\n",
    "    problem = get_problem(\"dtlz5\", n_var=len(x), n_obj=M)\n",
    "    return problem.evaluate(x)\n",
    "\n",
    "M = 3  # Number of objectives\n",
    "objective_values = evaluate_DTLZ5(x, M)\n",
    "print(\"Objective values:\", objective_values)"
   ]
  },
  {
   "cell_type": "code",
   "execution_count": 41,
   "id": "e004eaa1",
   "metadata": {},
   "outputs": [
    {
     "name": "stdout",
     "output_type": "stream",
     "text": [
      "Objective values: [3.82597766 0.92210884 4.09106656]\n"
     ]
    }
   ],
   "source": [
    "def evaluate_DTLZ6(x, M=3):\n",
    "    problem = get_problem(\"dtlz6\", n_var=len(x), n_obj=M)\n",
    "    return problem.evaluate(x)\n",
    "\n",
    "M = 3  # Number of objectives\n",
    "objective_values = evaluate_DTLZ6(x, M)\n",
    "print(\"Objective values:\", objective_values)"
   ]
  },
  {
   "cell_type": "code",
   "execution_count": 44,
   "id": "086e68e9",
   "metadata": {},
   "outputs": [
    {
     "name": "stdout",
     "output_type": "stream",
     "text": [
      "Objective values: [ 0.51233472  0.07584347 20.51657324]\n"
     ]
    }
   ],
   "source": [
    "def evaluate_DTLZ7(x, M=3):\n",
    "    n = len(x)\n",
    "    k = n - M + 1\n",
    "    g = 1 + 9 / k * sum(x[M-1:])\n",
    "    f = np.hstack((x[:M-1], [g]))\n",
    "    h = M\n",
    "    for i in range(M-1):\n",
    "        h -= f[i] / (1 + g) * (1 + np.sin(3 * np.pi * f[i]))\n",
    "    f[-1] = (1 + g) * h\n",
    "    return f\n",
    "\n",
    "M = 3\n",
    "objective_values = evaluate_DTLZ7(x, M)\n",
    "print(\"Objective values:\", objective_values)"
   ]
  },
  {
   "cell_type": "code",
   "execution_count": null,
   "id": "a4d0213b",
   "metadata": {},
   "outputs": [],
   "source": []
  }
 ],
 "metadata": {
  "kernelspec": {
   "display_name": "Python 3 (ipykernel)",
   "language": "python",
   "name": "python3"
  },
  "language_info": {
   "codemirror_mode": {
    "name": "ipython",
    "version": 3
   },
   "file_extension": ".py",
   "mimetype": "text/x-python",
   "name": "python",
   "nbconvert_exporter": "python",
   "pygments_lexer": "ipython3",
   "version": "3.11.5"
  }
 },
 "nbformat": 4,
 "nbformat_minor": 5
}
