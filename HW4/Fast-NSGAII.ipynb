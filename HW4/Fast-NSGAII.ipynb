{
 "cells": [
  {
   "cell_type": "code",
   "execution_count": 13,
   "id": "7cff9c2b",
   "metadata": {},
   "outputs": [],
   "source": [
    "from sklearn.model_selection import cross_val_score, KFold\n",
    "from sklearn.neighbors import KNeighborsClassifier\n",
    "from sklearn.metrics import accuracy_score\n",
    "from DataProcessor import DataProcessor\n",
    "import numpy as np\n",
    "import math\n",
    "from Chromosome import *\n",
    "from Recombination import Recombination\n",
    "import random\n",
    "from Fast_NSGAII import NSGAII\n",
    "import matplotlib.pyplot as plt\n",
    "from pymoo.indicators.hv import HV\n",
    "from pymoo.indicators.igd import IGD\n",
    "import time\n",
    "import pandas as pd\n",
    "from datetime import datetime\n",
    "from sklearn.ensemble import RandomForestClassifier\n",
    "from Configuration import NSGAConfig"
   ]
  },
  {
   "cell_type": "code",
   "execution_count": 14,
   "id": "5ab4af4d",
   "metadata": {},
   "outputs": [],
   "source": [
    "def select_features_rf(X, y, num_features=10):\n",
    "    model = RandomForestClassifier()\n",
    "    model.fit(X, y)\n",
    "    feature_importances = model.feature_importances_\n",
    "    selected_features = np.argsort(feature_importances)[-num_features:]\n",
    "    return selected_features"
   ]
  },
  {
   "cell_type": "code",
   "execution_count": 15,
   "id": "5d070b67",
   "metadata": {},
   "outputs": [],
   "source": [
    "def plot_pareto_front(data):\n",
    "    x_values = [item.objectives[1] for item in data]\n",
    "    y_values = [item.objectives[0] for item in data]\n",
    "    plt.scatter(x_values, y_values, marker='o', color='b')\n",
    "    plt.xlabel('Solution Size')\n",
    "    plt.ylabel('Classification Error')\n",
    "    plt.title('Final Pareto Front')\n",
    "    plt.show()"
   ]
  },
  {
   "cell_type": "code",
   "execution_count": 16,
   "id": "99020266",
   "metadata": {},
   "outputs": [],
   "source": [
    "def fast_non_dominated_sort( population):\n",
    "        fronts = [[]]\n",
    "        for p in population:\n",
    "            p.domination_count = 0\n",
    "            p.dominated_solutions = set()\n",
    "\n",
    "            for q in population:\n",
    "                if p.dominate(q):\n",
    "                    p.dominated_solutions.add(q)\n",
    "                elif q.dominate(p):\n",
    "                    p.domination_count += 1\n",
    "\n",
    "            if p.domination_count == 0:\n",
    "                p.rank = 0\n",
    "                fronts[0].append(p)\n",
    "\n",
    "        i = 0\n",
    "        while fronts[i]:\n",
    "            next_front = []\n",
    "            for p in fronts[i]:\n",
    "                for q in p.dominated_solutions:\n",
    "                    q.domination_count -= 1\n",
    "                    if q.domination_count == 0:\n",
    "                        q.rank = i + 1\n",
    "                        next_front.append(q)\n",
    "\n",
    "            i += 1\n",
    "            fronts.append(next_front)\n",
    "        return fronts\n"
   ]
  },
  {
   "cell_type": "code",
   "execution_count": 17,
   "id": "9e9b12d8",
   "metadata": {},
   "outputs": [],
   "source": [
    "# for sure values are not correct\n",
    "def create_chromosome(row, num_features):\n",
    "    values = np.random.randint(2, size=num_features)\n",
    "    chromosome = Chromosome(values)\n",
    "    chromosome.objectives = [row['Classification-error'], row['Solution-size']]\n",
    "    return chromosome"
   ]
  },
  {
   "cell_type": "code",
   "execution_count": 18,
   "id": "2bece5df",
   "metadata": {},
   "outputs": [],
   "source": [
    "def calc_true_pareto_front(U_PF_dataset_path, num_features):\n",
    "    df = pd.read_csv(U_PF_dataset_path)\n",
    "    population = df.apply(lambda row: create_chromosome(row, num_features), axis=1)\n",
    "    fronts = fast_non_dominated_sort(population)\n",
    "    objectives = [chromosome.objectives for chromosome in fronts[0]]\n",
    "    return objectives"
   ]
  },
  {
   "cell_type": "code",
   "execution_count": 19,
   "id": "367891e6",
   "metadata": {},
   "outputs": [],
   "source": [
    "def plot_values(current_solutions, igd_values, hypervolume_values):\n",
    "    plt.figure(figsize=(15, 5))\n",
    "    plt.subplot(1, 3, 1)\n",
    "    x_values = [item.objectives[1] for item in current_solutions]\n",
    "    y_values = [item.objectives[0] for item in current_solutions]\n",
    "    plt.scatter(x_values, y_values, marker='o', color='b')\n",
    "    plt.xlabel('Solution Size')\n",
    "    plt.ylabel('Classification Error')\n",
    "    plt.title(f'Final Pareto front for {dataset_name}')\n",
    "\n",
    "    plt.subplot(1, 3, 2)\n",
    "    plt.plot(igd_values, color='r', label=f'Mean: {np.mean(igd_values):.2f}\\nStd: {np.std(igd_values):.2f}')\n",
    "    plt.title('IGD')\n",
    "    plt.legend()\n",
    "    plt.subplot(1, 3, 3)\n",
    "    plt.plot(hypervolume_values, color='g', label=f'Mean: {np.mean(hypervolume_values):.2f}\\nStd: {np.std(hypervolume_values):.2f}')\n",
    "    plt.title('Hypervolume')\n",
    "    plt.legend()\n",
    "    plt.tight_layout()\n",
    "    plt.show()"
   ]
  },
  {
   "cell_type": "code",
   "execution_count": 20,
   "id": "a138972c",
   "metadata": {},
   "outputs": [],
   "source": [
    "def run_nsga_on_dataset(dataset_name):\n",
    "    num_objectives = 2\n",
    "    dataset_path = \"Datasets/\" + dataset_name\n",
    "    dp = DataProcessor(dataset_path)\n",
    "    dp.load_data()\n",
    "    config_file_path = \"config.json\"\n",
    "#     config_data = json.loads(json_string)\n",
    "    config = NSGAConfig(config_file_path)\n",
    "#     config.config_data = config_data\n",
    "#     config = NSGAConfig(config_file_path)\n",
    "    population_size, Q, LP, igd_threshold, hv_threshold, no_improvement_limit, maxFEs = config.get_parameters(dataset_name)\n",
    "    y = np.array(dp.dataset[\"LABEL\"])\n",
    "    X = np.array(dp.dataset.drop(\"LABEL\", axis=1, inplace=False))\n",
    "    selected_features = select_features_rf(X, y, num_features=100)\n",
    "    print(len(selected_features))\n",
    "    num_features = dp.num_features()\n",
    "    U_PF_dataset_path = \"union-pareto/\"+ dataset_name\n",
    "    true_pareto_front = calc_true_pareto_front(U_PF_dataset_path, num_features)    \n",
    "    print(\"number of features: \", num_features)\n",
    "   \n",
    "    nsga2 = NSGAII(X, y, population_size, LP, num_features, true_pareto_front, selected_features, maxFEs, no_improvement_limit, igd_threshold, hv_threshold)\n",
    "    current_solutions, igd_values, hypervolume_values = nsga2.nsga2()\n",
    "    return current_solutions, igd_values, hypervolume_values"
   ]
  },
  {
   "cell_type": "code",
   "execution_count": 21,
   "id": "7e56015a",
   "metadata": {
    "scrolled": false
   },
   "outputs": [],
   "source": [
    "def run_different_dataset(dataset_name):\n",
    "    start_time = time.time()\n",
    "    current_solutions, igd_values, hypervolume_values = run_nsga_on_dataset(dataset_name)\n",
    "    generations.append(len(igd_values))\n",
    "    end_time = time.time()\n",
    "    elapsed_time = end_time - start_time\n",
    "    duration_minutes = elapsed_time // 60\n",
    "    elapsed_times.append(duration_minutes)  \n",
    "    hv_mean.append(np.mean(hypervolume_values))\n",
    "    igd_mean.append(np.mean(igd_values))\n",
    "    hv_std.append(np.std(hypervolume_values))\n",
    "    igd_std.append(np.std(igd_values))\n",
    "\n",
    "    plot_values(current_solutions, igd_values, hypervolume_values)\n",
    "    "
   ]
  },
  {
   "cell_type": "code",
   "execution_count": 22,
   "id": "e1266e12",
   "metadata": {},
   "outputs": [],
   "source": [
    "datasets = [\"DS02.csv\", \"DS04.csv\", \"DS05.csv\",\"DS07.csv\", \"DS08.csv\", \"DS10.csv\"]\n",
    "elapsed_times = []\n",
    "start_times = []\n",
    "end_times = []"
   ]
  },
  {
   "cell_type": "code",
   "execution_count": null,
   "id": "124f82b2",
   "metadata": {
    "scrolled": false
   },
   "outputs": [],
   "source": [
    "run_different_dataset(\"DS02.csv\")"
   ]
  },
  {
   "cell_type": "code",
   "execution_count": 20,
   "id": "535c9fcc",
   "metadata": {},
   "outputs": [
    {
     "name": "stdout",
     "output_type": "stream",
     "text": [
      "+-----------+---------------------+---------------------+------------+\n",
      "| Dataset   | Start               | End                 |   Duration |\n",
      "+===========+=====================+=====================+============+\n",
      "| DS02.csv  | 2024-01-05 21:33:16 | 2024-01-05 21:33:56 |   0.666889 |\n",
      "+-----------+---------------------+---------------------+------------+\n",
      "| DS04.csv  | 2024-01-05 21:35:03 | 2024-01-05 21:41:04 |   6.01673  |\n",
      "+-----------+---------------------+---------------------+------------+\n"
     ]
    }
   ],
   "source": [
    "from tabulate import tabulate\n",
    "data = list(zip(datasets, start_times, end_times, elapsed_times))\n",
    "table = tabulate(data, headers=['Dataset','Start', 'End', 'Duration'], tablefmt='grid')\n",
    "print(table)"
   ]
  },
  {
   "cell_type": "code",
   "execution_count": null,
   "id": "eae3303b",
   "metadata": {},
   "outputs": [],
   "source": []
  }
 ],
 "metadata": {
  "kernelspec": {
   "display_name": "Python 3 (ipykernel)",
   "language": "python",
   "name": "python3"
  },
  "language_info": {
   "codemirror_mode": {
    "name": "ipython",
    "version": 3
   },
   "file_extension": ".py",
   "mimetype": "text/x-python",
   "name": "python",
   "nbconvert_exporter": "python",
   "pygments_lexer": "ipython3",
   "version": "3.11.5"
  }
 },
 "nbformat": 4,
 "nbformat_minor": 5
}
