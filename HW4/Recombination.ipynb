{
 "cells": [
  {
   "cell_type": "code",
   "execution_count": 16,
   "id": "a417d700",
   "metadata": {},
   "outputs": [],
   "source": [
    "#crossover probability\n",
    "import random\n",
    "import numpy as np"
   ]
  },
  {
   "cell_type": "code",
   "execution_count": 116,
   "id": "0b251819",
   "metadata": {},
   "outputs": [],
   "source": [
    "class Recombination:\n",
    "    def __init__(self, parent1, parent2):\n",
    "        self.parent1 = parent1\n",
    "        self.parent2 = parent2\n",
    "        self.crossovers = [self.onepoint_crossover, self.twopoint_crossover, self.uniform_crossover, self.shuffle_crossover, self.reduced_surrogate_crossover]\n",
    "        \n",
    "    def onepoint_crossover(self):\n",
    "        crossover_point = random.randint(1, len(self.parent1) - 1)\n",
    "        offspring1 = self.parent1[:crossover_point] + self.parent2[crossover_point:]\n",
    "        offspring2 = self.parent2[:crossover_point] + self.parent1[crossover_point:]\n",
    "        return offspring1, offspring2\n",
    "    \n",
    "   \n",
    "    def shuffle_crossover(self):\n",
    "        indices = list(range(len(self.parent1)))\n",
    "        random.shuffle(indices)\n",
    "        shuffled_parent1 = [self.parent1[i] for i in indices]\n",
    "        shuffled_parent2 = [self.parent2[i] for i in indices]\n",
    "        crossover_point = random.randint(1, len(parent1) - 1)\n",
    "        offspring1 = shuffled_parent1[:crossover_point] + shuffled_parent2[crossover_point:]\n",
    "        offspring2 = shuffled_parent2[:crossover_point] + shuffled_parent1[crossover_point:]\n",
    "        unshuffle = {v: k for k, v in enumerate(indices)}\n",
    "        unshuffledOffspring1 = [offspring1[unshuffle[i]] for i in range(len(offspring1))]\n",
    "        unshuffledOffspring2 = [offspring2[unshuffle[i]] for i in range(len(offspring2))]\n",
    "        return unshuffledOffspring1, unshuffledOffspring2 \n",
    "    \n",
    "    def reduced_surrogate_crossover(self):\n",
    "        diff_indices = [i for i in range(len(self.parent1)) if self.parent1[i] != self.parent2[i]]\n",
    "        if not diff_indices:\n",
    "            return self.parent1, self.parent2\n",
    "        crossover_point = random.choice(diff_indices)\n",
    "        offspring1 = self.parent1[:crossover_point] + self.parent2[crossover_point:]\n",
    "        offspring2 = self.parent2[:crossover_point] + self.parent1[crossover_point:]\n",
    "        return offspring1, offspring2\n",
    "    \n",
    "    \n",
    "    def uniform_crossover(self):\n",
    "        mask = [random.randint(0, 1) for _ in range(len(self.parent1))]\n",
    "        offspring1 = [self.parent1[i] if mask[i] == 0 else self.parent2[i] for i in range(len(self.parent1))]\n",
    "        offspring2 = [self.parent2[i] if mask[i] == 0 else self.parent1[i] for i in range(len(self.parent2))]\n",
    "        return offspring1, offspring2\n",
    "\n",
    "    def twopoint_crossover(self):\n",
    "        point1 = random.randint(1, len(self.parent1) - 2)\n",
    "        point2 = random.randint(point1, len(self.parent1) - 1)\n",
    "        child1 = self.parent1[:point1] + self.parent2[point1:point2] + self.parent1[point2:]\n",
    "        child2 = self.parent2[:point1] + self.parent1[point1:point2] + self.parent2[point2:]\n",
    "        return child1, child2\n",
    "\n",
    "    \n",
    "    def execute_crossovers(self):\n",
    "        result = []\n",
    "        for crossover in self.crossovers:\n",
    "            offspring1, offspring2 = crossover()\n",
    "            result.append((offspring1, offspring2,crossover.__name__))\n",
    "        return result"
   ]
  },
  {
   "cell_type": "code",
   "execution_count": 117,
   "id": "3327985d",
   "metadata": {},
   "outputs": [],
   "source": [
    "parent1 = [1 ,1 ,1 ,0 ,1 ,0 ,0 ,1 ,0]\n",
    "parent2 = [1 ,0 ,0 ,0 ,1 ,0 ,1 ,1 ,0]\n",
    "rc = Recombination(parent1,parent2)\n",
    "result = rc.execute_crossovers()"
   ]
  },
  {
   "cell_type": "code",
   "execution_count": null,
   "id": "a7821497",
   "metadata": {},
   "outputs": [],
   "source": []
  }
 ],
 "metadata": {
  "kernelspec": {
   "display_name": "Python 3 (ipykernel)",
   "language": "python",
   "name": "python3"
  },
  "language_info": {
   "codemirror_mode": {
    "name": "ipython",
    "version": 3
   },
   "file_extension": ".py",
   "mimetype": "text/x-python",
   "name": "python",
   "nbconvert_exporter": "python",
   "pygments_lexer": "ipython3",
   "version": "3.11.5"
  }
 },
 "nbformat": 4,
 "nbformat_minor": 5
}
