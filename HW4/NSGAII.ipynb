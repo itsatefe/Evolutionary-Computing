{
 "cells": [
  {
   "cell_type": "code",
   "execution_count": null,
   "id": "7cff9c2b",
   "metadata": {},
   "outputs": [],
   "source": [
    "from sklearn.model_selection import cross_val_score, KFold\n",
    "from sklearn.neighbors import KNeighborsClassifier\n",
    "from sklearn.metrics import accuracy_score\n",
    "from DataProcessor import DataProcessor\n",
    "import numpy as np\n",
    "import math\n",
    "from Chromosome import *\n",
    "from Recombination import Recombination\n",
    "import random\n",
    "from NSGAII import NSGAII\n",
    "import matplotlib.pyplot as plt\n",
    "from pymoo.indicators.hv import HV\n",
    "from pymoo.indicators.igd import IGD\n",
    "import time\n",
    "import pandas as pd\n",
    "from datetime import datetime"
   ]
  },
  {
   "cell_type": "code",
   "execution_count": null,
   "id": "5d070b67",
   "metadata": {},
   "outputs": [],
   "source": [
    "def plot_pareto_front(data):\n",
    "    x_values = [item.objectives[1] for item in data]\n",
    "    y_values = [item.objectives[0] for item in data]\n",
    "    plt.scatter(x_values, y_values, marker='o', color='b')\n",
    "    plt.xlabel('Solution Size')\n",
    "    plt.ylabel('Classification Error')\n",
    "    plt.title('Final Pareto Front')\n",
    "    plt.show()"
   ]
  },
  {
   "cell_type": "code",
   "execution_count": null,
   "id": "99020266",
   "metadata": {},
   "outputs": [],
   "source": [
    "def fast_non_dominated_sort( population):\n",
    "        fronts = [[]]\n",
    "        for p in population:\n",
    "            p.domination_count = 0\n",
    "            p.dominated_solutions = set()\n",
    "\n",
    "            for q in population:\n",
    "                if p.dominate(q):\n",
    "                    p.dominated_solutions.add(q)\n",
    "                elif q.dominate(p):\n",
    "                    p.domination_count += 1\n",
    "\n",
    "            if p.domination_count == 0:\n",
    "                p.rank = 0\n",
    "                fronts[0].append(p)\n",
    "\n",
    "        i = 0\n",
    "        while fronts[i]:\n",
    "            next_front = []\n",
    "            for p in fronts[i]:\n",
    "                for q in p.dominated_solutions:\n",
    "                    q.domination_count -= 1\n",
    "                    if q.domination_count == 0:\n",
    "                        q.rank = i + 1\n",
    "                        next_front.append(q)\n",
    "\n",
    "            i += 1\n",
    "            fronts.append(next_front)\n",
    "        return fronts\n"
   ]
  },
  {
   "cell_type": "code",
   "execution_count": null,
   "id": "9e9b12d8",
   "metadata": {},
   "outputs": [],
   "source": [
    "# for sure values are not correct\n",
    "def create_chromosome(row, num_features):\n",
    "    values = np.random.randint(2, size=num_features)\n",
    "    chromosome = Chromosome(values)\n",
    "    chromosome.objectives = [row['Classification-error'], row['Solution-size']]\n",
    "    return chromosome"
   ]
  },
  {
   "cell_type": "code",
   "execution_count": null,
   "id": "2bece5df",
   "metadata": {},
   "outputs": [],
   "source": [
    "def calc_true_pareto_front(U_PF_dataset_path, num_features):\n",
    "    df = pd.read_csv(U_PF_dataset_path)\n",
    "    population = df.apply(lambda row: create_chromosome(row, num_features), axis=1)\n",
    "    fronts = fast_non_dominated_sort(population)\n",
    "    objectives = [chromosome.objectives for chromosome in fronts[0]]\n",
    "    return objectives"
   ]
  },
  {
   "cell_type": "code",
   "execution_count": null,
   "id": "a138972c",
   "metadata": {},
   "outputs": [],
   "source": [
    "def run_nsga_on_dataset(dataset_name):\n",
    "    dataset_path = \"Datasets/\" + dataset_name\n",
    "    dp = DataProcessor(dataset_path)\n",
    "    dp.load_data()\n",
    "    num_objectives = 2\n",
    "    y = np.array(dp.dataset[\"LABEL\"])\n",
    "    X = np.array(dp.dataset.drop(\"LABEL\", axis=1, inplace=False))\n",
    "    num_features = dp.num_features()\n",
    "    U_PF_dataset_path = \"union-pareto/\"+ dataset_name\n",
    "    true_pareto_front = calc_true_pareto_front(U_PF_dataset_path, num_features)    \n",
    "    print(\"number of features: \", num_features)\n",
    "    population_size = 100\n",
    "    maxFEs = 30000\n",
    "    Q = 5\n",
    "    LP = 5\n",
    "    nsga2 = NSGAII(X, y, population_size, LP, num_features, true_pareto_front, maxFEs)\n",
    "    current_solutions, igd_values, hypervolume_values = nsga2.nsga2()\n",
    "    return current_solutions, igd_values, hypervolume_values"
   ]
  },
  {
   "cell_type": "code",
   "execution_count": null,
   "id": "e1266e12",
   "metadata": {},
   "outputs": [],
   "source": [
    "datasets = [\"DS02.csv\", \"DS04.csv\", \"DS05.csv\",\"DS07.csv\", \"DS08.csv\", \"DS10.csv\"]\n",
    "elapsed_times = []\n",
    "start_times = []\n",
    "end_times = []"
   ]
  },
  {
   "cell_type": "code",
   "execution_count": null,
   "id": "7e56015a",
   "metadata": {
    "scrolled": false
   },
   "outputs": [],
   "source": [
    "def run_different_dataset(dataset_name):\n",
    "    start_time = time.time()\n",
    "    current_solutions, igd_values, hypervolume_values = run_nsga_on_dataset(dataset_name)\n",
    "    end_time = time.time()\n",
    "    elapsed_time = end_time - start_time\n",
    "    duration_minutes = elapsed_time / 60\n",
    "    elapsed_times.append(duration_minutes)\n",
    "    start_times.append(datetime.utcfromtimestamp(start_time).strftime('%Y-%m-%d %H:%M:%S'))\n",
    "    end_times.append(datetime.utcfromtimestamp(end_time).strftime('%Y-%m-%d %H:%M:%S'))\n",
    "\n",
    "    print(\"-\"*20)\n",
    "\n",
    "    plt.figure(figsize=(15, 5))\n",
    "    plt.subplot(1, 3, 1)\n",
    "    x_values = [item.objectives[1] for item in current_solutions]\n",
    "    y_values = [item.objectives[0] for item in current_solutions]\n",
    "    plt.scatter(x_values, y_values, marker='o', color='b')\n",
    "    plt.xlabel('Solution Size')\n",
    "    plt.ylabel('Classification Error')\n",
    "    plt.title(f'Final Pareto front for {dataset_name}')\n",
    "\n",
    "    plt.subplot(1, 3, 2)\n",
    "    plt.plot(igd_values, color='r', label=f'Mean: {np.mean(igd_values):.2f}\\nStd: {np.std(igd_values):.2f}')\n",
    "    plt.title('IGD')\n",
    "    plt.legend()\n",
    "\n",
    "    plt.subplot(1, 3, 3)\n",
    "    plt.plot(hypervolume_values, color='g', label=f'Mean: {np.mean(hypervolume_values):.2f}\\nStd: {np.std(hypervolume_values):.2f}')\n",
    "    plt.title('Hypervolume')\n",
    "    plt.legend()\n",
    "\n",
    "    plt.tight_layout()\n",
    "\n",
    "    plt.show()"
   ]
  },
  {
   "cell_type": "code",
   "execution_count": null,
   "id": "b9ebfa42",
   "metadata": {},
   "outputs": [],
   "source": [
    "run_different_dataset(\"DS08.csv\")"
   ]
  },
  {
   "cell_type": "code",
   "execution_count": null,
   "id": "535c9fcc",
   "metadata": {},
   "outputs": [],
   "source": [
    "from tabulate import tabulate\n",
    "data = list(zip(datasets, start_times, end_times, elapsed_times))\n",
    "table = tabulate(data, headers=['Dataset','Start', 'End', 'Duration'], tablefmt='grid')\n",
    "print(table)"
   ]
  },
  {
   "cell_type": "code",
   "execution_count": null,
   "id": "4f0279fe",
   "metadata": {},
   "outputs": [],
   "source": [
    "from tabulate import tabulate\n",
    "data = list(zip(datasets, start_times, end_times, elapsed_times))\n",
    "table = tabulate(data, headers=['Dataset','Start', 'End', 'Duration'], tablefmt='grid')\n",
    "print(table)"
   ]
  },
  {
   "cell_type": "code",
   "execution_count": null,
   "id": "a603562c",
   "metadata": {},
   "outputs": [],
   "source": []
  }
 ],
 "metadata": {
  "kernelspec": {
   "display_name": "Python 3 (ipykernel)",
   "language": "python",
   "name": "python3"
  },
  "language_info": {
   "codemirror_mode": {
    "name": "ipython",
    "version": 3
   },
   "file_extension": ".py",
   "mimetype": "text/x-python",
   "name": "python",
   "nbconvert_exporter": "python",
   "pygments_lexer": "ipython3",
   "version": "3.11.5"
  }
 },
 "nbformat": 4,
 "nbformat_minor": 5
}
