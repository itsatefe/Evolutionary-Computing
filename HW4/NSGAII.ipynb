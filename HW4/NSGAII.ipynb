{
 "cells": [
  {
   "cell_type": "code",
   "execution_count": 1,
   "id": "c1ebf86c",
   "metadata": {},
   "outputs": [],
   "source": [
    "from sklearn.model_selection import cross_val_score, KFold\n",
    "from sklearn.neighbors import KNeighborsClassifier\n",
    "from sklearn.metrics import accuracy_score\n",
    "from DataProcessor import DataProcessor\n",
    "import numpy as np\n",
    "import math\n",
    "from Chromosome import *\n",
    "from Recombination import Recombination\n",
    "import random"
   ]
  },
  {
   "cell_type": "code",
   "execution_count": 2,
   "id": "120558e3",
   "metadata": {},
   "outputs": [],
   "source": [
    "dp = DataProcessor(\"Datasets/DS02.csv\")"
   ]
  },
  {
   "cell_type": "code",
   "execution_count": 3,
   "id": "75c1b532",
   "metadata": {},
   "outputs": [],
   "source": [
    "dp.load_data()"
   ]
  },
  {
   "cell_type": "code",
   "execution_count": 4,
   "id": "b9cd4ad3",
   "metadata": {},
   "outputs": [],
   "source": [
    "num_objectives = 2\n",
    "y = np.array(dp.dataset[\"LABEL\"])\n",
    "X = np.array(dp.dataset.drop(\"LABEL\", axis=1, inplace=False))\n",
    "num_features = dp.num_features()\n",
    "population_size = 100\n",
    "maxFEs = 3000\n",
    "Q = 5\n",
    "LP = 5 #number of generation\n",
    "RD = []\n",
    "PN = []\n",
    "mutation_probability = 1\n",
    "sigma = 0.0001"
   ]
  },
  {
   "cell_type": "code",
   "execution_count": 5,
   "id": "0f1a8d52",
   "metadata": {},
   "outputs": [],
   "source": [
    "crossover_keys = [\"onepoint_crossover\", \"twopoint_crossover\", \"uniform_crossover\", \"shuffle_crossover\", \"reduced_surrogate_crossover\"]\n",
    "default_value = 0\n",
    "nReward = {key: default_value for key in crossover_keys}\n",
    "nPenalty = {key: default_value for key in crossover_keys}\n"
   ]
  },
  {
   "cell_type": "markdown",
   "id": "f71bd779",
   "metadata": {},
   "source": [
    "distance = 0 initially for every individual\n",
    "\n",
    "The individuals in the front are then sorted based on each objective function.\n",
    "\n",
    "The crowding distance for individuals at the boundaries of the front (the extreme values) is set to infinity\n",
    "\n",
    "The crowding distance is sum of normalized distances in each objective space between the individual and its two neighbors.    "
   ]
  },
  {
   "cell_type": "code",
   "execution_count": 6,
   "id": "7cb43ef1",
   "metadata": {},
   "outputs": [],
   "source": [
    "def fitness_function_1(chromosome):\n",
    "    chromosome = np.array(chromosome)\n",
    "    selected_features = X[:, chromosome == 1]\n",
    "    classifier = KNeighborsClassifier(n_neighbors=3)\n",
    "    accuracy_scores = cross_val_score(classifier, selected_features, y, cv=3)\n",
    "    mean_error = 1 - np.mean(accuracy_scores)\n",
    "    return mean_error\n",
    "\n",
    "def fitness_function_2(chromosome):\n",
    "    return np.sum(chromosome)"
   ]
  },
  {
   "cell_type": "code",
   "execution_count": 7,
   "id": "42e20174",
   "metadata": {},
   "outputs": [],
   "source": [
    "objective_functions = [fitness_function_1,fitness_function_2]"
   ]
  },
  {
   "cell_type": "code",
   "execution_count": 8,
   "id": "14acfc14",
   "metadata": {},
   "outputs": [],
   "source": [
    "def initialize_population(num_features, population_size):\n",
    "    population = []\n",
    "    for i in range(population_size):\n",
    "        values = list(np.random.randint(2, size=num_features))\n",
    "        chromosome = Chromosome(values)\n",
    "        chromosome.objectives = [f(values) for f in objective_functions]\n",
    "        \n",
    "        population.append(chromosome)\n",
    "    return population"
   ]
  },
  {
   "cell_type": "code",
   "execution_count": 9,
   "id": "83582e0d",
   "metadata": {},
   "outputs": [],
   "source": [
    "def environmental_selection(population):\n",
    "    remaining_pop_size = population_size\n",
    "    new_population = []\n",
    "    fronts = fast_non_dominated_sort(population)\n",
    "    for front in fronts:\n",
    "        front_size = len(front)\n",
    "        if remaining_pop_size > front_size:\n",
    "            new_population += front\n",
    "            remaining_pop_size -= front_size\n",
    "        else:\n",
    "            crowding_distance(front)\n",
    "            front.sort(key=lambda chromosome: chromosome.crowding_distance, reverse=True)\n",
    "            new_population += front[:remaining_pop_size]\n",
    "            break\n",
    "    \n",
    "    return new_population\n"
   ]
  },
  {
   "cell_type": "code",
   "execution_count": 10,
   "id": "4a4938af",
   "metadata": {},
   "outputs": [],
   "source": [
    "def init_OSP():\n",
    "    return {key: 1/len(crossover_keys) for key in crossover_keys}"
   ]
  },
  {
   "cell_type": "code",
   "execution_count": 11,
   "id": "b48aa721",
   "metadata": {},
   "outputs": [],
   "source": [
    "def update_OSP():\n",
    "    sum_crossover_RD = {key: sum(row[key] for row in RD) for key in crossover_keys}\n",
    "    sum_crossover_PN = {key: sum(row[key] for row in PN) for key in crossover_keys}\n",
    "    non_zero_sum = {key: sum_crossover_RD[key] if sum_crossover_RD[key] != 0 else sigma for key in crossover_keys}\n",
    "    crossover_probabilities = {key: sum_crossover_RD[key] / (non_zero_sum[key] + sum_crossover_PN[key]) for key in sum_crossover_RD.keys()}\n",
    "    denominator = sum(crossover_probabilities.values())\n",
    "    normalized_probabilities = {key: crossover_probabilities[key] / denominator for key in crossover_probabilities.keys()}\n",
    "    return normalized_probabilities"
   ]
  },
  {
   "cell_type": "code",
   "execution_count": 12,
   "id": "a4323251",
   "metadata": {},
   "outputs": [],
   "source": [
    "def parent_selection(population):\n",
    "    return np.random.choice(population,2)"
   ]
  },
  {
   "cell_type": "code",
   "execution_count": 13,
   "id": "d9eaa9e2",
   "metadata": {},
   "outputs": [],
   "source": [
    "def credit_assignment(parents, offsprings, crossover, nReward, nPenalty):\n",
    "    p_nd, p_d = dominance_comparison(parents)\n",
    "    if p_d != None:\n",
    "        for parent in p_nd:\n",
    "            for offspring in offsprings:\n",
    "                if dominate(parent,offspring):\n",
    "                    nPenalty[crossover.__name__] += 1\n",
    "                else: \n",
    "                    nReward[crossover.__name__] += 1\n",
    "    else:\n",
    "        for offspring in offsprings:\n",
    "            if all(not dominate(parent, offspring) for parent in parents):\n",
    "                nReward[crossover.__name__] += 1\n",
    "            else:\n",
    "                nPenalty[crossover.__name__] += 1    \n",
    "    return nReward, nPenalty"
   ]
  },
  {
   "cell_type": "code",
   "execution_count": 14,
   "id": "84d70fc1",
   "metadata": {},
   "outputs": [],
   "source": [
    "# if nobody dominates the solution it goes to non-dominated set\n",
    "def dominance_comparison(chromosomes):\n",
    "    non_dominated_set = []\n",
    "    dominated_set = []\n",
    "    for i, sol1 in enumerate(chromosomes):\n",
    "        is_dominated_by_others = any(dominate(sol2, sol1) for j, sol2 in enumerate(chromosomes) if i != j)\n",
    "        if not is_dominated_by_others:\n",
    "            non_dominated_set.append(sol1)\n",
    "        else:\n",
    "            dominated_set.append(sol1)\n",
    "    return non_dominated_set, dominated_set"
   ]
  },
  {
   "cell_type": "code",
   "execution_count": 15,
   "id": "29235ecc",
   "metadata": {},
   "outputs": [],
   "source": [
    "def uniform_mutation(chromosome):\n",
    "    mutated_chromosome = chromosome.copy()\n",
    "    for i in range(len(mutated_chromosome)):\n",
    "        if random.uniform(0, 1) < mutation_probability:\n",
    "            mutated_chromosome[i] = 1 - mutated_chromosome[i]\n",
    "    return mutated_chromosome"
   ]
  },
  {
   "cell_type": "code",
   "execution_count": 16,
   "id": "74d5d2b4",
   "metadata": {},
   "outputs": [],
   "source": [
    "def find_non_dominated_solution(population):\n",
    "    fronts = fast_non_dominated_sort(population)\n",
    "    return fronts[0]"
   ]
  },
  {
   "cell_type": "code",
   "execution_count": 25,
   "id": "5c6a489d",
   "metadata": {
    "scrolled": true
   },
   "outputs": [],
   "source": [
    "# def nsga2(population_size, num_generations, num_features, objective_functions):\n",
    "def NSGAII(population_size, LP, num_features, objective_functions):\n",
    "    count_evaluation = 0\n",
    "    k = 0\n",
    "    population = initialize_population(num_features, population_size)\n",
    "    crossover_probability = init_OSP()\n",
    "    while count_evaluation < maxFEs:\n",
    "        default_value = 0\n",
    "        nReward = {key: default_value for key in crossover_keys}\n",
    "        nPenalty = {key: default_value for key in crossover_keys}\n",
    "        new_population = []\n",
    "        for i in range(int(population_size/2)):\n",
    "            parent1, parent2 = parent_selection(population)\n",
    "            rc = Recombination(parent1.values, parent2.values)\n",
    "            crossover = rc.roulette_wheel_selection(crossover_probability)\n",
    "            offspring1, offspring2 = rc.execute_crossover(crossover)\n",
    "            offspring1 = uniform_mutation(offspring1)\n",
    "            offspring2 = uniform_mutation(offspring2)\n",
    "            offspring1, offspring2 = Chromosome(offspring1), Chromosome(offspring2)\n",
    "            offspring1.objectives = [f(offspring1.values) for f in objective_functions]\n",
    "            offspring2.objectives = [f(offspring2.values) for f in objective_functions]\n",
    "            count_evaluation += 2\n",
    "            nReward, nPenalty = credit_assignment([parent1,parent2], [offspring1,offspring2], crossover, nReward, nPenalty)\n",
    "            new_population += [offspring1, offspring2]\n",
    "        k += 1\n",
    "        RD.append(nReward)\n",
    "        PN.append(nPenalty)\n",
    "        if k == LP:\n",
    "            crossover_probability = update_OSP()\n",
    "            k = 0\n",
    "        if count_evaluation % 100000 == 0:\n",
    "            print(count_evaluation)\n",
    "            \n",
    "        current_pool = new_population + population\n",
    "        \n",
    "        distinct_objects = []\n",
    "        for obj in current_pool:\n",
    "            if not any(existing_obj.values == obj.values for existing_obj in distinct_objects):\n",
    "                distinct_objects.append(obj)\n",
    "        population = environmental_selection(distinct_objects)\n",
    "        current_solutions = find_non_dominated_solution(population)\n",
    "    return current_solutions"
   ]
  },
  {
   "cell_type": "code",
   "execution_count": 26,
   "id": "cb5807dd",
   "metadata": {
    "scrolled": false
   },
   "outputs": [],
   "source": [
    "current_solutions = NSGAII(population_size, LP, num_features, objective_functions)"
   ]
  },
  {
   "cell_type": "code",
   "execution_count": 27,
   "id": "7bf638d7",
   "metadata": {},
   "outputs": [
    {
     "name": "stdout",
     "output_type": "stream",
     "text": [
      "obejective:  [0.22222222222222232, 33]\n",
      "obejective:  [0.22222222222222232, 33]\n",
      "obejective:  [0.18518518518518523, 35]\n",
      "obejective:  [0.2962962962962964, 15]\n",
      "obejective:  [0.5555555555555556, 13]\n",
      "obejective:  [0.22222222222222232, 33]\n",
      "obejective:  [0.4814814814814815, 14]\n",
      "obejective:  [0.2962962962962963, 22]\n",
      "obejective:  [0.2592592592592592, 23]\n"
     ]
    }
   ],
   "source": [
    "for solution in current_solutions:\n",
    "    print(\"obejective: \", solution.objectives)"
   ]
  },
  {
   "cell_type": "code",
   "execution_count": 30,
   "id": "1f20fa29",
   "metadata": {},
   "outputs": [
    {
     "data": {
      "text/plain": [
       "False"
      ]
     },
     "execution_count": 30,
     "metadata": {},
     "output_type": "execute_result"
    }
   ],
   "source": [
    "current_solutions[1].values == current_solutions[5].values"
   ]
  },
  {
   "cell_type": "code",
   "execution_count": null,
   "id": "134de721",
   "metadata": {},
   "outputs": [],
   "source": []
  }
 ],
 "metadata": {
  "kernelspec": {
   "display_name": "Python 3 (ipykernel)",
   "language": "python",
   "name": "python3"
  },
  "language_info": {
   "codemirror_mode": {
    "name": "ipython",
    "version": 3
   },
   "file_extension": ".py",
   "mimetype": "text/x-python",
   "name": "python",
   "nbconvert_exporter": "python",
   "pygments_lexer": "ipython3",
   "version": "3.11.5"
  }
 },
 "nbformat": 4,
 "nbformat_minor": 5
}
