{
 "cells": [
  {
   "cell_type": "code",
   "execution_count": 1,
   "id": "c1ebf86c",
   "metadata": {},
   "outputs": [],
   "source": [
    "from sklearn.model_selection import cross_val_score, KFold\n",
    "from sklearn.neighbors import KNeighborsClassifier\n",
    "from sklearn.metrics import accuracy_score\n",
    "from DataProcessor import DataProcessor\n",
    "import numpy as np\n",
    "import math\n"
   ]
  },
  {
   "cell_type": "code",
   "execution_count": 2,
   "id": "120558e3",
   "metadata": {},
   "outputs": [],
   "source": [
    "dp = DataProcessor(\"Datasets/DS02.csv\")"
   ]
  },
  {
   "cell_type": "code",
   "execution_count": 3,
   "id": "75c1b532",
   "metadata": {},
   "outputs": [],
   "source": [
    "dp.load_data()"
   ]
  },
  {
   "cell_type": "code",
   "execution_count": 22,
   "id": "b9cd4ad3",
   "metadata": {},
   "outputs": [],
   "source": [
    "num_objectives = 2\n",
    "y = np.array(dp.dataset[\"LABEL\"])\n",
    "X = np.array(dp.dataset.drop(\"LABEL\", axis=1, inplace=False))\n",
    "num_features = dp.num_features()\n",
    "pop_size = 100\n",
    "maxFEs = 10000\n",
    "Q = 5\n",
    "LP = 100 #number of generation\n",
    "RD = np.zeros((LP,Q))\n",
    "PN = np.zeros((LP,Q))"
   ]
  },
  {
   "cell_type": "code",
   "execution_count": null,
   "id": "c954a39e",
   "metadata": {},
   "outputs": [],
   "source": [
    "nReward = np.zeros(Q)\n",
    "nPenalty = np.zeros(Q)"
   ]
  },
  {
   "cell_type": "code",
   "execution_count": null,
   "id": "d0a3e1eb",
   "metadata": {},
   "outputs": [],
   "source": [
    "def environmental_selection():\n",
    "    "
   ]
  },
  {
   "cell_type": "code",
   "execution_count": null,
   "id": "74612b7a",
   "metadata": {},
   "outputs": [],
   "source": [
    "def is_dominated(chromosome1, chromosome2):\n",
    "    for i in range(num_objectives):\n",
    "        if chromosome1[1][i] < chromosome2[1][i]:\n",
    "            return True\n",
    "    return False"
   ]
  },
  {
   "cell_type": "markdown",
   "id": "f71bd779",
   "metadata": {},
   "source": [
    "distance = 0 initially for every individual\n",
    "\n",
    "The individuals in the front are then sorted based on each objective function.\n",
    "\n",
    "The crowding distance for individuals at the boundaries of the front (the extreme values) is set to infinity\n",
    "\n",
    "The crowding distance is sum of normalized distances in each objective space between the individual and its two neighbors.    "
   ]
  },
  {
   "cell_type": "code",
   "execution_count": 29,
   "id": "93235b15",
   "metadata": {},
   "outputs": [
    {
     "data": {
      "text/plain": [
       "[inf, 1.25, 1.5, inf]"
      ]
     },
     "execution_count": 29,
     "metadata": {},
     "output_type": "execute_result"
    }
   ],
   "source": [
    "def crowding_distance(population, objectives):\n",
    "    crowding_distances = [0.0 for _ in population]\n",
    "    normalized_population = [[(individual[obj] - min(population, key=lambda x: x[obj])[obj]) /\n",
    "                              (max(population, key=lambda x: x[obj])[obj] - min(population, key=lambda x: x[obj])[obj])\n",
    "                              for obj in range(objectives)] for individual in population]\n",
    "\n",
    "    for m in range(objectives):\n",
    "        sorted_population = sorted(normalized_population, key=lambda x: x[m])\n",
    "        crowding_distances[0] = float('inf')\n",
    "        crowding_distances[-1] = float('inf')\n",
    "        for i in range(1, len(population) - 1):\n",
    "            crowding_distances[i] += (sorted_population[i + 1][m] - sorted_population[i - 1][m])\n",
    "    return crowding_distances\n",
    "\n",
    "population = [[0.2, 0.4], [0.3, 0.7], [0.5, 0.6], [0.1, 0.3]]\n",
    "objectives = 2\n",
    "crowding_distances = crowding_distance(population, objectives)\n",
    "crowding_distances"
   ]
  },
  {
   "cell_type": "code",
   "execution_count": 6,
   "id": "b00aeead",
   "metadata": {},
   "outputs": [],
   "source": [
    "chromosome = np.random.randint(2, size=num)"
   ]
  },
  {
   "cell_type": "code",
   "execution_count": 19,
   "id": "14acfc14",
   "metadata": {},
   "outputs": [],
   "source": [
    "def initialize_population(num_features, pop_size):\n",
    "    return [np.random.randint(2, size=num) for i in range(pop_size)]"
   ]
  },
  {
   "cell_type": "code",
   "execution_count": 20,
   "id": "7cb43ef1",
   "metadata": {},
   "outputs": [],
   "source": [
    "def fitness_function_1(chromosome, X, y):\n",
    "    selected_features = X[:, chromosome == 1]\n",
    "    classifier = KNeighborsClassifier(n_neighbors=3)\n",
    "    accuracy_scores = cross_val_score(classifier, selected_features, y, cv=3)\n",
    "    mean_error = 1 - np.mean(accuracy_scores)\n",
    "    return 1 - mean_error"
   ]
  },
  {
   "cell_type": "code",
   "execution_count": 21,
   "id": "868b9211",
   "metadata": {},
   "outputs": [],
   "source": [
    "def fitness_function_2(chromosome):\n",
    "    return np.sum(chromosome)"
   ]
  },
  {
   "cell_type": "code",
   "execution_count": 24,
   "id": "6a32b310",
   "metadata": {},
   "outputs": [
    {
     "name": "stdout",
     "output_type": "stream",
     "text": [
      "Sorted List based on Euclidean distance:\n",
      "[(4, [1, 7]), (3, [8, 2]), (2, [3, 8]), (1, [5, 10])]\n"
     ]
    }
   ],
   "source": [
    "\n",
    "\n",
    "sorted_list = sorted(list_of_tuples, key=lambda x: math.dist(np.zeros(num_objectives), x[1]))\n",
    "\n",
    "# Print the sorted list\n",
    "print(\"Sorted List based on Euclidean distance:\")\n",
    "print(sorted_list)\n"
   ]
  },
  {
   "cell_type": "code",
   "execution_count": 26,
   "id": "d246fa0f",
   "metadata": {},
   "outputs": [
    {
     "name": "stdout",
     "output_type": "stream",
     "text": [
      "Sorted List based on Euclidean distance:\n",
      "[(4, [1, 7]), (3, [8, 2]), (2, [3, 8]), (1, [5, 10])]\n"
     ]
    }
   ],
   "source": [
    "\n",
    "\n",
    "sorted_list = sorted(list_of_tuples, key=lambda x: math.dist(np.zeros(2), x[1]))\n",
    "\n",
    "# Print the sorted list\n",
    "print(\"Sorted List based on Euclidean distance:\")\n",
    "print(sorted_list)\n"
   ]
  },
  {
   "cell_type": "code",
   "execution_count": null,
   "id": "5c6a489d",
   "metadata": {},
   "outputs": [],
   "source": []
  }
 ],
 "metadata": {
  "kernelspec": {
   "display_name": "Python 3 (ipykernel)",
   "language": "python",
   "name": "python3"
  },
  "language_info": {
   "codemirror_mode": {
    "name": "ipython",
    "version": 3
   },
   "file_extension": ".py",
   "mimetype": "text/x-python",
   "name": "python",
   "nbconvert_exporter": "python",
   "pygments_lexer": "ipython3",
   "version": "3.11.5"
  }
 },
 "nbformat": 4,
 "nbformat_minor": 5
}
